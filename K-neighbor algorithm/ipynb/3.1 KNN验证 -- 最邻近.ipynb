{
 "cells": [
  {
   "cell_type": "raw",
   "metadata": {},
   "source": [
    "开始数据验证：\n",
    "使用数据集为sklearn.datasets  load_iris"
   ]
  },
  {
   "cell_type": "code",
   "execution_count": 1,
   "metadata": {},
   "outputs": [],
   "source": [
    "import pandas as pd\n",
    "import numpy as np\n",
    "from sklearn.datasets import load_iris\n",
    "import matplotlib.pyplot as plt\n",
    "%matplotlib inline"
   ]
  },
  {
   "cell_type": "code",
   "execution_count": 2,
   "metadata": {
    "scrolled": true
   },
   "outputs": [
    {
     "name": "stdout",
     "output_type": "stream",
     "text": [
      "(100, 3)\n"
     ]
    }
   ],
   "source": [
    "iris = load_iris()\n",
    "iris_df = pd.DataFrame(iris.data, columns = iris.feature_names)\n",
    "iris_df['label'] = iris.target\n",
    "\n",
    "#取出前 100 条经录， 并且将其划分为训练集与标签两部分\n",
    "'''\n",
    "iloc，即index locate 用index索引进行定位，所以参数是整型，如：df.iloc[10:20, 3:5]\n",
    "loc，则可以使用column名和index名进行定位，如：df.loc[‘image1’:‘image10’, ‘age’:‘score’]\n",
    "'''\n",
    "data = np.array(iris_df.iloc[:100, [0, 1, -1]])\n",
    "X, Y = data[:, :-1],data[:, -1]\n",
    "print(data.shape)\n"
   ]
  },
  {
   "cell_type": "code",
   "execution_count": 3,
   "metadata": {},
   "outputs": [
    {
     "data": {
      "text/plain": [
       "<matplotlib.legend.Legend at 0x2124b665288>"
      ]
     },
     "execution_count": 3,
     "metadata": {},
     "output_type": "execute_result"
    },
    {
     "data": {
      "image/png": "[encoded data removed]",
      "text/plain": [
       "<Figure size 432x288 with 1 Axes>"
      ]
     },
     "metadata": {
      "needs_background": "light"
     },
     "output_type": "display_data"
    }
   ],
   "source": [
    "# 绘制样本点\n",
    "plt.plot(data[:50, 0], data[:50, 1], '+', label='0')\n",
    "plt.plot(data[50:100, 0], data[50:100, 1], '.', label='1')\n",
    "plt.xlabel('sepal length (cm)')\n",
    "plt.ylabel('sepal width (cm)')\n",
    "plt.legend()"
   ]
  },
  {
   "cell_type": "code",
   "execution_count": 4,
   "metadata": {},
   "outputs": [],
   "source": [
    "# 保存数据点\n",
    "np.savez_compressed('iris.npz', data = data, X = X, Y = Y )"
   ]
  },
  {
   "cell_type": "code",
   "execution_count": 5,
   "metadata": {},
   "outputs": [
    {
     "data": {
      "text/plain": [
       "<matplotlib.legend.Legend at 0x2124b665c08>"
      ]
     },
     "execution_count": 5,
     "metadata": {},
     "output_type": "execute_result"
    },
    {
     "data": {
      "image/png": "[encoded data removed]",
      "text/plain": [
       "<Figure size 432x288 with 1 Axes>"
      ]
     },
     "metadata": {
      "needs_background": "light"
     },
     "output_type": "display_data"
    }
   ],
   "source": [
    "# 测试保存的数据集\n",
    "iris_npz = np.load('iris.npz')\n",
    "data = iris_npz['data']\n",
    "X = iris_npz['X']\n",
    "Y = iris_npz['Y']\n",
    "\n",
    "# 绘制样本点\n",
    "plt.plot(data[:50, 0], data[:50, 1], '+', label='0')\n",
    "plt.plot(data[50:100, 0], data[50:100, 1], '.', label='1')\n",
    "plt.xlabel('sepal length (cm)')\n",
    "plt.ylabel('sepal width (cm)')\n",
    "plt.legend()"
   ]
  },
  {
   "cell_type": "raw",
   "metadata": {},
   "source": [
    "KNN 数据验证\n",
    "包括了KD树的生成、与最小点的查询过程\n",
    "\n",
    "包括了两个类\n",
    "\n",
    "KDNode 类\n",
    "用于保存节点信息：包括数据、划分的维度、左子树、右子树\n",
    "\n",
    "KDTree 类\n",
    "包括如下方法\n",
    "    CreateKDTree —— 创建KD树\n",
    "    _FindNearest —— 寻找最近的点\n",
    "    Nearest     —— 寻找最近的点"
   ]
  },
  {
   "cell_type": "code",
   "execution_count": 6,
   "metadata": {},
   "outputs": [],
   "source": [
    "'''\n",
    "节点类\n",
    "'''\n",
    "class KDNode:\n",
    "    \n",
    "    # 保存数据、划分的维度、左子树、右子树\n",
    "    def __init__(self, sample, feature_index, left, right):\n",
    "        self.sample = sample\n",
    "        self.feature_index = feature_index\n",
    "        self.left = left\n",
    "        self.right = right"
   ]
  },
  {
   "cell_type": "code",
   "execution_count": 7,
   "metadata": {},
   "outputs": [],
   "source": [
    "'''\n",
    "KD树类：\n",
    "\n",
    "'''\n",
    "class KDTree:\n",
    "    def __init__(self, dataSet):\n",
    "        self.n_feature = dataSet.shape[1] - 1\n",
    "        self.root = self.CreateKDTree(dataSet, 0)\n",
    "    \n",
    "    # 生成KD树\n",
    "    def CreateKDTree(self, dataSet, feature_index):\n",
    "        if len(dataSet) == 0:\n",
    "            return None;\n",
    "        dataSet = sorted(dataSet, key = lambda x : x[feature_index])\n",
    "        split_pos = len(dataSet) // 2\n",
    "        return KDNode(dataSet[split_pos], feature_index, \\\n",
    "                          self.CreateKDTree(dataSet[:split_pos], (feature_index + 1)\\\n",
    "                                            % self.n_feature), \\\n",
    "                          self.CreateKDTree(dataSet[split_pos+1:], (feature_index + 1) \\\n",
    "                                            % self.n_feature))\n",
    "    \n",
    "    # 寻找最近的节点\n",
    "    def _FindNearest(self, kdnode, source, target, mindist):\n",
    "        if kdnode == None:\n",
    "            return None, float('inf')\n",
    "        \n",
    "        pivot = kdnode.sample\n",
    "        # 判断是优先进入左子树遍历，还是优先进入右子树遍历\n",
    "        if source[kdnode.feature_index] <= pivot[kdnode.feature_index]:\n",
    "            forward = kdnode.left\n",
    "            backward = kdnode.right\n",
    "        else:\n",
    "            forward = kdnode.right\n",
    "            backward = kdnode.left\n",
    "            \n",
    "        # 判断更有可能的子树的最小距离\n",
    "        forward_result = self._FindNearest(forward,  source, target, mindist)\n",
    "        if forward_result[1] < mindist:\n",
    "            target = forward_result[0]\n",
    "            mindist = forward_result[1]\n",
    "           \n",
    "        # 判断与根节点的距离， 如果这个距离大于最小距离，则不需要遍历之后的子树\n",
    "        # np.linalg.normal计算向量的范数， ord 指定为第几范数\\\n",
    "        to_pivot = np.linalg.norm(source[:-1] - pivot[:-1], ord=2)\n",
    "        if mindist < to_pivot:\n",
    "            return target, mindist\n",
    "        \n",
    "        # 更新最近点\n",
    "        target = pivot\n",
    "        mindist = to_pivot\n",
    "        \n",
    "        # 进入剩下的子树的， 寻找最小距离\n",
    "        backward_result = self._FindNearest(backward, source, target, mindist)\n",
    "        if backward_result[1] < mindist:\n",
    "            target = backward_result[0]\n",
    "            mindist = backward_result[1]\n",
    "        return target, mindist\n",
    "    \n",
    "    def Nearest(self, source):\n",
    "        result = self._FindNearest(kdnode=self.root, source=source, target=None, mindist=float('inf'))\n",
    "        return result[0]"
   ]
  },
  {
   "cell_type": "code",
   "execution_count": 8,
   "metadata": {},
   "outputs": [],
   "source": [
    "# 最后一列是标签\n",
    "example_data = np.array([[2, 3, 0],[5, 4, 0],[9, 6, 0],[4, 7, 1],[8, 1, 1],[7, 2, 1]])\n",
    "example_kdtree = KDTree(example_data)"
   ]
  },
  {
   "cell_type": "code",
   "execution_count": 9,
   "metadata": {},
   "outputs": [
    {
     "name": "stdout",
     "output_type": "stream",
     "text": [
      "[7 2 1]\n",
      "[5 4 0]\n",
      "[2 3 0]\n",
      "[4 7 1]\n",
      "[9 6 0]\n",
      "[8 1 1]\n"
     ]
    }
   ],
   "source": [
    "# 先根序列打印KDtree\n",
    "def print_kDTree(root):\n",
    "    if root == None:\n",
    "        return\n",
    "    print(root.sample)\n",
    "    print_kDTree(root.left)\n",
    "    print_kDTree(root.right)\n",
    "    \n",
    "print_kDTree(example_kdtree.root)"
   ]
  },
  {
   "cell_type": "code",
   "execution_count": 10,
   "metadata": {},
   "outputs": [
    {
     "name": "stdout",
     "output_type": "stream",
     "text": [
      "Nearst [4 7 1]\n",
      "Nearst: [4 7 1]\n"
     ]
    }
   ],
   "source": [
    "source_t = np.array([2, 16, 0])\n",
    "print('Nearst', example_kdtree.Nearest(source_t))\n",
    "print('Nearst:', example_data[np.argmin([np.linalg.norm(item[:-1]-source_t[:-1], ord = 2) for item in example_data])])"
   ]
  },
  {
   "cell_type": "code",
   "execution_count": 11,
   "metadata": {},
   "outputs": [
    {
     "data": {
      "text/plain": [
       "9.219544457292887"
      ]
     },
     "execution_count": 11,
     "metadata": {},
     "output_type": "execute_result"
    }
   ],
   "source": [
    "np.linalg.norm(np.array([2, 16, 0])[:-1] - np.array([2, 3, 0])[:-1], ord=2)\n",
    "np.linalg.norm(np.array([2, 16, 0])[:-1] - np.array([4, 7, 1])[:-1], ord=2)"
   ]
  },
  {
   "cell_type": "code",
   "execution_count": 12,
   "metadata": {},
   "outputs": [
    {
     "name": "stdout",
     "output_type": "stream",
     "text": [
      "KDTree createing time 0.5 s\n",
      "Nearest :  [0.29047391 0.6638572  0.57721644 0.39563015 0.64253242 0.94631053\n",
      " 0.73193189 0.56355104 0.40949968 0.33502106 0.77695766 0.49280457\n",
      " 0.30451521 0.53951686 0.95601581 0.80421122 0.62836382 0.45924978\n",
      " 0.15737091 0.69482697 0.68641266 0.76088251 0.21960332 0.87393746\n",
      " 0.4802126  0.65416896 0.41983908 0.98564349 0.68796552 0.57552179\n",
      " 0.64754779 0.19282205 0.84534712 0.52676164 0.13140416 0.5079644\n",
      " 0.5350532  0.41443447 0.61069415 0.49797337 0.41161882 0.17341144\n",
      " 0.83644747 0.48580093 0.08643935 0.64157944 0.8595093  0.96462858\n",
      " 0.70968817 0.39908044 0.05401113 0.26826076 0.34851127 0.45946726\n",
      " 0.73858614 0.87220188 0.01919121 0.05593041 0.29861437 0.66098608\n",
      " 0.09623832 0.52016064 0.9721814  0.49587948 0.69242901 0.1476642 ]\n",
      "KDTree searing tiem  0.0 s\n",
      "Nearest : [0.36863183 0.82235621 0.08762357 0.75933967 0.05506978 0.15958263\n",
      " 0.03417848 0.75163102 0.63998574 0.92625506 0.09565424 0.32929397\n",
      " 0.81878126 0.91706951 0.25886903 0.06323129 0.86421996 0.07435373\n",
      " 0.74772067 0.11245952 0.56578069 0.8017774  0.99608277 0.25752687\n",
      " 0.59256108 0.04910554 0.81503818 0.59297783 0.39970196 0.67855623\n",
      " 0.5363239  0.78827021 0.93234781 0.50246103 0.54066755 0.99247625\n",
      " 0.55773755 0.63558744 0.42486008 0.76577363 0.44008569 0.0294283\n",
      " 0.67240243 0.97503771 0.35748168 0.66424393 0.85181115 0.05455566\n",
      " 0.98235722 0.28641727 0.46065173 0.14326857 0.98254268 0.35680197\n",
      " 0.35172752 0.96049654 0.84223731 0.87939547 0.16207945 0.21804343\n",
      " 0.42370036 0.78541928 0.34724258 0.2216786  0.57005232 0.54717128]\n",
      "One-By-One searching time : 0.0 s\n"
     ]
    }
   ],
   "source": [
    "import time\n",
    "from random import random\n",
    "\n",
    "K = 66 # 样本点的维数\n",
    "N = 40000 # 样本点的个数\n",
    "random_data = np.array([[random() for k in range(K)] for n in range(N)])\n",
    "\n",
    "t0 = time.process_time()\n",
    "random_kdtree = KDTree(random_data)\n",
    "t1 = time.process_time()\n",
    "print(\"KDTree createing time\", t1 - t0, 's')\n",
    "\n",
    "rand_scource = [random() for k in range(K)]\n",
    "t2 = time.process_time()\n",
    "print(\"Nearest : \", random_kdtree.Nearest(rand_scource))\n",
    "t3 = time.process_time()\n",
    "print(\"KDTree searing tiem \", t3 - t2, 's')\n",
    "\n",
    "t4 = time.process_time()\n",
    "print(\"Nearest :\", random_data[np.argmin( \\\n",
    "    np.linalg.norm(item[:-1]-source[:-1], ord = 2) for item in random_data)])\n",
    "t5 = time.process_time()\n",
    "print(\"One-By-One searching time :\", t5-t4, 's')"
   ]
  },
  {
   "cell_type": "code",
   "execution_count": 13,
   "metadata": {
    "scrolled": true
   },
   "outputs": [
    {
     "name": "stdout",
     "output_type": "stream",
     "text": [
      "Nearest [5.1 3.8 0. ]\n",
      "Nearest [5.1 3.5 0. ]\n"
     ]
    }
   ],
   "source": [
    "iris_kdtree = KDTree(data)\n",
    "iris_source =  np.array([5, 4, 0])\n",
    "print('Nearest', iris_kdtree.Nearest(iris_source))\n",
    "print('Nearest', data[np.argmin(np.linalg.norm(item[:-1] - iris_source[:-1], ord = 2) for item in data)])"
   ]
  },
  {
   "cell_type": "code",
   "execution_count": 14,
   "metadata": {},
   "outputs": [
    {
     "name": "stdout",
     "output_type": "stream",
     "text": [
      "[5.1 3.3 0. ]\n",
      "[5.1 3.5 0. ]\n"
     ]
    },
    {
     "data": {
      "text/plain": [
       "<matplotlib.legend.Legend at 0x2124c1e9ec8>"
      ]
     },
     "execution_count": 14,
     "metadata": {},
     "output_type": "execute_result"
    },
    {
     "data": {
      "image/png": "[encoded data removed]",
      "text/plain": [
       "<Figure size 432x288 with 1 Axes>"
      ]
     },
     "metadata": {
      "needs_background": "light"
     },
     "output_type": "display_data"
    }
   ],
   "source": [
    "# 作图可视化\n",
    "iris_source_2 = np.array([5.2, 3.2, 0])\n",
    "target_2 = iris_kdtree.Nearest(iris_source_2)\n",
    "print(target_2)\n",
    "target_3 = data[np.argmin(np.linalg.norm(item[:-1] - iris_source[:-1], ord = 2) for item in data)]\n",
    "print(target_3)\n",
    "plt.plot(data[:50, 0], data[:50, 1], '+', label='0')\n",
    "plt.plot(data[50:100, 0], data[50:100,1], '.', label='1')\n",
    "plt.plot(iris_source_2[0], iris_source_2[1], 'ro', label='Sourse')\n",
    "# scatter 绘制散点图\n",
    "plt.scatter(target_2[0], target_2[1], color='', marker='o', edgecolors='g', s=100, label='Target')\n",
    "plt.xlabel('sepal length (cm)')\n",
    "plt.ylabel('sepal width (cm)')\n",
    "plt.legend()"
   ]
  },
  {
   "cell_type": "code",
   "execution_count": 15,
   "metadata": {},
   "outputs": [],
   "source": [
    "from sklearn.neighbors import KNeighborsClassifier\n",
    "from sklearn.model_selection import train_test_split\n",
    "\n",
    "# 因为是随机划分，所以和pdf不一样\n",
    "X_train, X_test, Y_train, Y_test = train_test_split(X, Y, test_size = 0.2)"
   ]
  },
  {
   "cell_type": "code",
   "execution_count": 16,
   "metadata": {},
   "outputs": [
    {
     "data": {
      "text/plain": [
       "KNeighborsClassifier(algorithm='auto', leaf_size=30, metric='minkowski',\n",
       "                     metric_params=None, n_jobs=1, n_neighbors=5, p=2,\n",
       "                     weights='uniform')"
      ]
     },
     "execution_count": 16,
     "metadata": {},
     "output_type": "execute_result"
    }
   ],
   "source": [
    "clf = KNeighborsClassifier(algorithm='auto', leaf_size=30,\n",
    "                           metric='minkowski',metric_params=None,\n",
    "                           n_jobs=1, n_neighbors=5, p=2,weights='uniform')\n",
    "clf.fit(X_train, Y_train)"
   ]
  },
  {
   "cell_type": "code",
   "execution_count": 17,
   "metadata": {},
   "outputs": [
    {
     "data": {
      "text/plain": [
       "1.0"
      ]
     },
     "execution_count": 17,
     "metadata": {},
     "output_type": "execute_result"
    }
   ],
   "source": [
    "clf.score(X_test, Y_test)"
   ]
  }
 ],
 "metadata": {
  "hide_input": false,
  "kernelspec": {
   "display_name": "Python 3",
   "language": "python",
   "name": "python3"
  },
  "language_info": {
   "codemirror_mode": {
    "name": "ipython",
    "version": 3
   },
   "file_extension": ".py",
   "mimetype": "text/x-python",
   "name": "python",
   "nbconvert_exporter": "python",
   "pygments_lexer": "ipython3",
   "version": "3.7.4"
  },
  "toc": {
   "base_numbering": 1,
   "nav_menu": {},
   "number_sections": true,
   "sideBar": true,
   "skip_h1_title": false,
   "title_cell": "Table of Contents",
   "title_sidebar": "Contents",
   "toc_cell": false,
   "toc_position": {},
   "toc_section_display": true,
   "toc_window_display": false
  },
  "varInspector": {
   "cols": {
    "lenName": 16,
    "lenType": 16,
    "lenVar": 40
   },
   "kernels_config": {
    "python": {
     "delete_cmd_postfix": "",
     "delete_cmd_prefix": "del ",
     "library": "var_list.py",
     "varRefreshCmd": "print(var_dic_list())"
    },
    "r": {
     "delete_cmd_postfix": ") ",
     "delete_cmd_prefix": "rm(",
     "library": "var_list.r",
     "varRefreshCmd": "cat(var_dic_list()) "
    }
   },
   "types_to_exclude": [
    "module",
    "function",
    "builtin_function_or_method",
    "instance",
    "_Feature"
   ],
   "window_display": false
  }
 },
 "nbformat": 4,
 "nbformat_minor": 2
}
