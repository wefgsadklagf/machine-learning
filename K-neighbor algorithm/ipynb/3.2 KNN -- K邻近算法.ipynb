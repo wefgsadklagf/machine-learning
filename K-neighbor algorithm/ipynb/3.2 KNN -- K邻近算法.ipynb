{
 "cells": [
  {
   "cell_type": "markdown",
   "metadata": {
    "toc": true
   },
   "source": [
    "<h1>Table of Contents<span class=\"tocSkip\"></span></h1>\n",
    "<div class=\"toc\"><ul class=\"toc-item\"><li><span><a href=\"#K目标邻近\" data-toc-modified-id=\"K目标邻近-1\"><span class=\"toc-item-num\">1&nbsp;&nbsp;</span>K目标邻近</a></span><ul class=\"toc-item\"><li><span><a href=\"#测试数据，进行测试\" data-toc-modified-id=\"测试数据，进行测试-1.1\"><span class=\"toc-item-num\">1.1&nbsp;&nbsp;</span>测试数据，进行测试</a></span></li><li><span><a href=\"#sklearn.KNN-验证\" data-toc-modified-id=\"sklearn.KNN-验证-1.2\"><span class=\"toc-item-num\">1.2&nbsp;&nbsp;</span>sklearn.KNN 验证</a></span></li><li><span><a href=\"#Iris分类\" data-toc-modified-id=\"Iris分类-1.3\"><span class=\"toc-item-num\">1.3&nbsp;&nbsp;</span>Iris分类</a></span></li><li><span><a href=\"#Iris-sklearn验证\" data-toc-modified-id=\"Iris-sklearn验证-1.4\"><span class=\"toc-item-num\">1.4&nbsp;&nbsp;</span>Iris sklearn验证</a></span></li></ul></li><li><span><a href=\"#附录\" data-toc-modified-id=\"附录-2\"><span class=\"toc-item-num\">2&nbsp;&nbsp;</span>附录</a></span><ul class=\"toc-item\"><li><span><a href=\"#函数解释\" data-toc-modified-id=\"函数解释-2.1\"><span class=\"toc-item-num\">2.1&nbsp;&nbsp;</span>函数解释</a></span><ul class=\"toc-item\"><li><span><a href=\"#KNeighborsClassifier\" data-toc-modified-id=\"KNeighborsClassifier-2.1.1\"><span class=\"toc-item-num\">2.1.1&nbsp;&nbsp;</span><code>KNeighborsClassifier</code></a></span></li><li><span><a href=\"#kneighbors\" data-toc-modified-id=\"kneighbors-2.1.2\"><span class=\"toc-item-num\">2.1.2&nbsp;&nbsp;</span><code>kneighbors</code></a></span></li><li><span><a href=\"#sotred()\" data-toc-modified-id=\"sotred()-2.1.3\"><span class=\"toc-item-num\">2.1.3&nbsp;&nbsp;</span>sotred()</a></span></li></ul></li></ul></li></ul></div>"
   ]
  },
  {
   "cell_type": "markdown",
   "metadata": {},
   "source": [
    "#  K目标邻近"
   ]
  },
  {
   "cell_type": "code",
   "execution_count": 78,
   "metadata": {},
   "outputs": [],
   "source": [
    "import numpy as np\n",
    "from IPython.display import Latex\n",
    "from sklearn.datasets import load_iris\n",
    "from sklearn.neighbors import KNeighborsClassifier as KNN\n",
    "import pandas as pd\n",
    "import matplotlib.pyplot as plt\n",
    "%matplotlib inline"
   ]
  },
  {
   "cell_type": "code",
   "execution_count": 79,
   "metadata": {},
   "outputs": [],
   "source": [
    "# KDTree Node Class\n",
    "class KDNode:\n",
    "    \n",
    "    def __init__(self, sample, featurea_index, left, right):\n",
    "        self.sample = sample\n",
    "        self.feature_index = featurea_index\n",
    "        self.left = left\n",
    "        self.right = right"
   ]
  },
  {
   "cell_type": "code",
   "execution_count": 152,
   "metadata": {
    "code_folding": []
   },
   "outputs": [],
   "source": [
    "# KDTree Class\n",
    "class KDTree:\n",
    "    \n",
    "    def __init__(self, data):\n",
    "        self.n_feature = data.shape[1] - 1\n",
    "        self.root = self.Build(data, 0)\n",
    "        \n",
    "    def Build(self, data, featurea_index):\n",
    "        if len(data) == 0:\n",
    "            return None\n",
    "        data = sorted(data, key=lambda x:x[featurea_index])\n",
    "        split_pos = len(data) // 2\n",
    "        return KDNode(data[split_pos], featurea_index,\\\n",
    "                          self.Build(data[:split_pos], (featurea_index + 1)\\\n",
    "                                     % self.n_feature),\\\n",
    "                          self.Build(data[split_pos + 1 :], (featurea_index + 1) \\\n",
    "                                     % self.n_feature))\n",
    "    \n",
    "    # target 将保存所有满足条件的点的集合， 及其距离\n",
    "    # maxMindist 保存所有邻近点中，最大的距离\n",
    "    # K 表示要查找的最近邻点的数量\n",
    "    def _FindKNearby(self, kdnode, source, target, maxMindist, K):\n",
    "        if kdnode == None:\n",
    "            # 前三位是坐标 + 标签，第四位是 距离\n",
    "            return target, float('inf')\n",
    "        \n",
    "        # 区分遍历顺序\n",
    "        pivot = kdnode.sample\n",
    "        if pivot[kdnode.feature_index] < source[kdnode.feature_index]:\n",
    "            forword = kdnode.left\n",
    "            backword =kdnode.right\n",
    "        else:\n",
    "            forword = kdnode.right\n",
    "            backword = kdnode.left\n",
    "            \n",
    "        forword_target, forword_maxMindist= self._FindKNearby(forword,\\\n",
    "                                                              source, target, maxMindist, K)\n",
    "        # 去重\n",
    "        forword_target = np.unique(forword_target, axis=0)\n",
    "        # 排序\n",
    "        target = sorted(forword_target, key=lambda x:x[3])\n",
    "        # 再次转换为np.narray类型\n",
    "        target = np.array(target)\n",
    "        length = min(target.shape[0], K)\n",
    "        target = forword_target[:length]\n",
    "        if (length > K):\n",
    "            maxMindist = forword_target[length - 1][3]\n",
    "        else:\n",
    "            maxMindist = float('inf')\n",
    "        \n",
    "        to_pivot = np.linalg.norm(source[:-1] - pivot[:-1], ord=2)\n",
    "        if maxMindist < to_pivot:\n",
    "            return target, maxMindist\n",
    "        \n",
    "        pivot = np.append(pivot ,to_pivot)\n",
    "        target = np.append(target, [pivot], axis=0)\n",
    "        \n",
    "        backword_target, backword_maxMindist = self._FindKNearby(backword, \\\n",
    "                                                                 source, target, maxMindist, K)\n",
    "        target = np.append(target, backword_target, axis=0)\n",
    "        maxMindist = backword_maxMindist\n",
    "        target = np.unique(target, axis=0)\n",
    "        if target.shape[0] > K:\n",
    "            target = sorted(target, key=lambda x:x[3])\n",
    "            target = target[:K]\n",
    "            maxMindist = target[K - 1][3]\n",
    "            target = np.array(target)\n",
    "        \n",
    "        return target, maxMindist\n",
    "    \n",
    "    def KNearest(self, source, K):\n",
    "        dist = np.linalg.norm(source[:-1] - self.root.sample[:-1])\n",
    "        target = np.append(self.root.sample, dist)\n",
    "        # [target] 就是为了将一位的数据转换为二维的数据\n",
    "        result = self._FindKNearby(self.root, source, [target], float('inf'), K)\n",
    "        return result[0]"
   ]
  },
  {
   "cell_type": "markdown",
   "metadata": {},
   "source": [
    "## 测试数据，进行测试"
   ]
  },
  {
   "cell_type": "code",
   "execution_count": 153,
   "metadata": {},
   "outputs": [],
   "source": [
    "# 最后一列是标签\n",
    "example_data = np.array([[2, 3, 0],[5, 4, 0],[9, 6, 0],[4, 7, 1],[8, 1, 1],[7, 2, 1],\n",
    "                        [2, 5, 0],[5, 1, 0],[9, 8, 0],[2, 2, 1],[1, 1, 1],[7, 6, 1],])\n",
    "example_kdtree = KDTree(example_data)"
   ]
  },
  {
   "cell_type": "code",
   "execution_count": 154,
   "metadata": {},
   "outputs": [
    {
     "name": "stdout",
     "output_type": "stream",
     "text": [
      "[5 1 0]\n",
      "[5 4 0]\n",
      "[2 2 1]\n",
      "[1 1 1]\n",
      "[2 3 0]\n",
      "[4 7 1]\n",
      "[2 5 0]\n",
      "[7 6 1]\n",
      "[8 1 1]\n",
      "[7 2 1]\n",
      "[9 8 0]\n",
      "[9 6 0]\n"
     ]
    }
   ],
   "source": [
    "# 先根序列打印KDtree\n",
    "def print_kDTree(root):\n",
    "    if root == None:\n",
    "        return\n",
    "    print(root.sample)\n",
    "    print_kDTree(root.left)\n",
    "    print_kDTree(root.right)\n",
    "    \n",
    "print_kDTree(example_kdtree.root)"
   ]
  },
  {
   "cell_type": "code",
   "execution_count": 158,
   "metadata": {
    "scrolled": false
   },
   "outputs": [
    {
     "name": "stdout",
     "output_type": "stream",
     "text": [
      "[[5.         4.         0.         1.41421356]\n",
      " [2.         5.         0.         2.        ]\n",
      " [4.         7.         1.         2.        ]\n",
      " [2.         3.         0.         2.82842712]\n",
      " [7.         6.         1.         3.16227766]]\n"
     ]
    },
    {
     "data": {
      "text/plain": [
       "<matplotlib.collections.PathCollection at 0x1bef23af348>"
      ]
     },
     "execution_count": 158,
     "metadata": {},
     "output_type": "execute_result"
    },
    {
     "data": {
      "image/png": "[encoded data removed]",
      "text/plain": [
       "<Figure size 432x288 with 1 Axes>"
      ]
     },
     "metadata": {
      "needs_background": "light"
     },
     "output_type": "display_data"
    }
   ],
   "source": [
    "source = np.array([4, 5, 1])\n",
    "KNearest = example_kdtree.KNearest(source, 5)\n",
    "print(KNearest)\n",
    "\n",
    "plt.plot(source[0], source[1], 'ro', label='Source')\n",
    "plt.plot(example_data[:, 0], example_data[:, 1], '+', label=\"Point\")\n",
    "plt.scatter(KNearest[:, 0], KNearest[:, 1],  color='',\\\n",
    "         marker='o', edgecolors='g', s=100, label='Target')"
   ]
  },
  {
   "cell_type": "markdown",
   "metadata": {},
   "source": [
    "## sklearn.KNN 验证"
   ]
  },
  {
   "cell_type": "code",
   "execution_count": 156,
   "metadata": {},
   "outputs": [
    {
     "data": {
      "text/plain": [
       "<matplotlib.collections.PathCollection at 0x1bef3854888>"
      ]
     },
     "execution_count": 156,
     "metadata": {},
     "output_type": "execute_result"
    },
    {
     "data": {
      "image/png": "[encoded data removed]",
      "text/plain": [
       "<Figure size 432x288 with 1 Axes>"
      ]
     },
     "metadata": {
      "needs_background": "light"
     },
     "output_type": "display_data"
    }
   ],
   "source": [
    "from sklearn.neighbors import NearestNeighbors\n",
    "neigh = NearestNeighbors(n_neighbors=5)\n",
    "neigh.fit(example_data)\n",
    "# 返回值为最邻近的K个点的索引及其距离\n",
    "source = np.array([[4, 5, 1]])\n",
    "KNeights = neigh.kneighbors(source)[1]\n",
    "\n",
    "K_neight_points = example_data[KNeights][0]\n",
    "# 可视化\n",
    "plt.plot(source[0][0], source[0][1], 'ro', label='Source')\n",
    "plt.plot(example_data[:, 0], example_data[:, 1], '+', label=\"Point\")\n",
    "plt.scatter(K_neight_points[:, 0], K_neight_points[:, 1],  color='',\\\n",
    "         marker='o', edgecolors='g', s=100, label='Target')"
   ]
  },
  {
   "cell_type": "markdown",
   "metadata": {},
   "source": [
    "## Iris分类"
   ]
  },
  {
   "cell_type": "code",
   "execution_count": 163,
   "metadata": {},
   "outputs": [],
   "source": [
    "# 导入加载数据集\n",
    "iris = load_iris()\n",
    "iris_df = pd.DataFrame(iris.data, columns=iris.feature_names)\n",
    "iris_df['label'] = iris.target"
   ]
  },
  {
   "cell_type": "code",
   "execution_count": 164,
   "metadata": {},
   "outputs": [],
   "source": [
    "#取出前 100 条经录， 并且将其划分为训练集与标签两部分\n",
    "'''\n",
    "iloc，即index locate 用index索引进行定位，所以参数是整型，如：df.iloc[10:20, 3:5]\n",
    "loc，则可以使用column名和index名进行定位，如：df.loc[‘image1’:‘image10’, ‘age’:‘score’]\n",
    "'''\n",
    "data = np.array(iris_df.iloc[:100, [0, 1, -1]])\n",
    "X, Y = data[:, :-1],data[:, -1]"
   ]
  },
  {
   "cell_type": "raw",
   "metadata": {},
   "source": [
    "# 可视化验证数据 -- 查看数据集，并能够做下一步的操作\n",
    "plt.plot(data[:50, 0], data[:50, 1], '+', label='0')\n",
    "plt.plot(data[50:100, 0], data[50:100, 1], '.', label='1')\n",
    "plt.xlabel('sepal length (cm)')\n",
    "plt.ylabel('sepal width (cm)')\n",
    "plt.legend()"
   ]
  },
  {
   "cell_type": "code",
   "execution_count": 168,
   "metadata": {},
   "outputs": [
    {
     "name": "stdout",
     "output_type": "stream",
     "text": [
      "[[5.         3.6        0.         0.        ]\n",
      " [4.9        3.6        0.         0.1       ]\n",
      " [5.         3.5        0.         0.1       ]\n",
      " [5.1        3.5        0.         0.14142136]\n",
      " [5.1        3.7        0.         0.14142136]\n",
      " [5.         3.4        0.         0.2       ]\n",
      " [5.1        3.8        0.         0.2236068 ]]\n"
     ]
    }
   ],
   "source": [
    "# 训练Iris_KDTree, 找出距离最近的 5 个点\n",
    "Iris_KDTree = KDTree(data)\n",
    "iris_source = np.array([5.0, 3.6, 0])\n",
    "KNearest = Iris_KDTree.KNearest(iris_source, 7)\n",
    "# 打印相关数据\n",
    "print(KNearest)"
   ]
  },
  {
   "cell_type": "code",
   "execution_count": 169,
   "metadata": {
    "scrolled": true
   },
   "outputs": [
    {
     "data": {
      "text/plain": [
       "<matplotlib.legend.Legend at 0x1bef1661248>"
      ]
     },
     "execution_count": 169,
     "metadata": {},
     "output_type": "execute_result"
    },
    {
     "data": {
      "image/png": "[encoded data removed]",
      "text/plain": [
       "<Figure size 432x288 with 1 Axes>"
      ]
     },
     "metadata": {
      "needs_background": "light"
     },
     "output_type": "display_data"
    }
   ],
   "source": [
    "# 可视化验证数据 -- 查看数据集，并能够做下一步的操作\n",
    "plt.plot(data[:50, 0], data[:50, 1], '+', label='0')\n",
    "plt.plot(data[50:100, 0], data[50:100, 1], '.', label='1')\n",
    "plt.plot(iris_source[0], iris_source[1], 'ro', label='Sourse')\n",
    "plt.scatter(KNearest[:, 0], KNearest[:, 1], color='',\\\n",
    "            marker='o', edgecolors='g', s=100, label='Target')\n",
    "plt.xlabel('sepal length (cm)')\n",
    "plt.ylabel('sepal width (cm)')\n",
    "plt.legend()"
   ]
  },
  {
   "cell_type": "markdown",
   "metadata": {},
   "source": [
    "## Iris sklearn验证"
   ]
  },
  {
   "cell_type": "code",
   "execution_count": 170,
   "metadata": {},
   "outputs": [
    {
     "name": "stdout",
     "output_type": "stream",
     "text": [
      "[[5.  3.6 0. ]\n",
      " [4.9 3.6 0. ]\n",
      " [5.  3.5 0. ]\n",
      " [5.  3.5 0. ]\n",
      " [5.1 3.5 0. ]\n",
      " [5.1 3.7 0. ]\n",
      " [5.1 3.5 0. ]]\n"
     ]
    },
    {
     "data": {
      "text/plain": [
       "<matplotlib.legend.Legend at 0x1bef13f6788>"
      ]
     },
     "execution_count": 170,
     "metadata": {},
     "output_type": "execute_result"
    },
    {
     "data": {
      "image/png": "[encoded data removed]",
      "text/plain": [
       "<Figure size 432x288 with 1 Axes>"
      ]
     },
     "metadata": {
      "needs_background": "light"
     },
     "output_type": "display_data"
    }
   ],
   "source": [
    "from sklearn.neighbors import NearestNeighbors\n",
    "iris_KNeights_model = NearestNeighbors(n_neighbors=7)\n",
    "iris_KNeights_model.fit(data)\n",
    "# 获取最近点的索引\n",
    "iris_KNeights = iris_KNeights_model.kneighbors([[5.0, 3.6, 0]])[1]\n",
    "# nearest_point\n",
    "nearest_point = data[iris_KNeights][0]\n",
    "print(nearest_point)\n",
    "# 可视化\n",
    "plt.plot(data[:50, 0], data[:50, 1], '+', label='0')\n",
    "plt.plot(data[50:100, 0], data[50:100, 1], '.', label='1')\n",
    "plt.plot(iris_source[0], iris_source[1], 'ro', label='Sourse')\n",
    "plt.scatter(nearest_point[:, 0], nearest_point[:, 1], color='',\\\n",
    "            marker='o', edgecolors='g', s=100, label='Target')\n",
    "plt.xlabel('sepal length (cm)')\n",
    "plt.ylabel('sepal width (cm)')\n",
    "plt.legend()"
   ]
  },
  {
   "cell_type": "markdown",
   "metadata": {},
   "source": [
    "# 附录\n",
    "## 函数解释\n",
    "### `KNeighborsClassifier`\n",
    "```py\n",
    "def KNeighborsClassifier(n_neighbors = 5,\n",
    "                       weights='uniform',\n",
    "                       algorithm = '',\n",
    "                       leaf_size = '30',\n",
    "                       p = 2,\n",
    "                       metric = 'minkowski',\n",
    "                       metric_params = None,\n",
    "                       n_jobs = None\n",
    "                       )\n",
    "```\n",
    "-`n_neighbors`：这个值就是指 KNN 中的 “K”了。前面说到过，通过调整 K 值，算法会有不同的效果。\n",
    "- `weights`（权重）：最普遍的 KNN 算法无论距离如何，权重都一样，但有时候我们想搞点特殊化，比如距离更近的点让它更加重要。这时候就需要 weight 这个参数了，这个参数有三个可选参数的值，决定了如何分配权重。参数选项如下：\n",
    "        • 'uniform'：不管远近权重都一样，就是最普通的 KNN 算法的形式。\n",
    "        • 'distance'：权重和距离成反比，距离预测目标越近具有越高的权重。\n",
    "        • 自定义函数：自定义一个函数，根据输入的坐标值返回对应的权重，达到自定义权重的目的。\n",
    "- `algorithm`：在 sklearn 中，要构建 KNN 模型有三种构建方式，1. 暴力法，就是直接计算距离存储比较的那种放松。2. 使用 kd 树构建 KNN 模型 3. 使用球树构建。 其中暴力法适合数据较小的方式，否则效率会比较低。如果数据量比较大一般会选择用 KD 树构建 KNN 模型，而当 KD 树也比较慢的时候，则可以试试球树来构建 KNN。参数选项如下：\n",
    "        • 'brute' ：蛮力实现\n",
    "        • 'kd_tree'：KD 树实现 KNN\n",
    "        • 'ball_tree'：球树实现 KNN \n",
    "        • 'auto'： 默认参数，自动选择合适的方法构建模型\n",
    "不过当数据较小或比较稀疏时，无论选择哪个最后都会使用 'brute'\n",
    "        \n",
    "- `leaf_size`：如果是选择蛮力实现，那么这个值是可以忽略的，当使用KD树或球树，它就是是停止建子树的叶子节点数量的阈值。默认30，但如果数据量增多这个参数需要增大，否则速度过慢不说，还容易过拟合。\n",
    "- `p`：和metric结合使用的，当metric参数是\"minkowski\"的时候，p=1为曼哈顿距离， p=2为欧式距离。默认为p=2。\n",
    "- `metric`：指定距离度量方法，一般都是使用欧式距离。\n",
    "        • 'euclidean' ：欧式距离\n",
    "        • 'manhattan'：曼哈顿距离\n",
    "        • 'chebyshev'：切比雪夫距离\n",
    "        • 'minkowski'： 闵可夫斯基距离，默认参数\n",
    "- `n_jobs` ：指定多少个CPU进行运算，默认是-1，也就是全部都算。\n"
   ]
  },
  {
   "cell_type": "markdown",
   "metadata": {},
   "source": [
    "### `kneighbors`\n",
    "`kneighbors（self，X = None，n_neighbors = None，return_distance = True ）`\n",
    "- 参数\n",
    "    - `metric =='precomputed'`，则为类似X的数组，形状为（n_queries，n_features）或（n_queries，n_indexed）查询点。如果未提供，则返回每个索引点的邻居。在这种情况下，查询点不被视为其自身的邻居。\n",
    "    - `n_neighbors int` 要获取的邻居数（默认值为传递给构造函数的值）。\n",
    "    - `return_distance bool`，可选。默认为True。如果为False，则不会返回距离\n",
    "- 返回值 \n",
    "    - `neigh_dist` 数组，形状（n_queries，n_neighbors）表示点的长度的数组，仅当return_distance = True时存在\n",
    "    - `neigh_ind` 数组，形状（n_queries，n_neighbors）,人口矩阵中最近点的指标。"
   ]
  },
  {
   "cell_type": "markdown",
   "metadata": {},
   "source": [
    "###  sotred()\n",
    "`sorted(iterable, cmp=None, key=None, reverse=False)`\n",
    "\n",
    "`sorted` 是一个python自带的内置函数，作用是对给定的数组进行排序，\n",
    "* `iterable` 被排序的可迭代对象\n",
    "* `cmp` 比较的函数\n",
    "* `key` 主要是用来进行比较的元素\n",
    "* `reverse` 排序规则，reverse = True 降序 ， reverse = False 升序（默认）。\n",
    "\n",
    "\\* 特别说明，在 '''sorted''' 排序之后元素的类型转变为了list类型 "
   ]
  }
 ],
 "metadata": {
  "hide_input": false,
  "kernelspec": {
   "display_name": "Python 3",
   "language": "python",
   "name": "python3"
  },
  "language_info": {
   "codemirror_mode": {
    "name": "ipython",
    "version": 3
   },
   "file_extension": ".py",
   "mimetype": "text/x-python",
   "name": "python",
   "nbconvert_exporter": "python",
   "pygments_lexer": "ipython3",
   "version": "3.7.4"
  },
  "toc": {
   "base_numbering": 1,
   "nav_menu": {},
   "number_sections": true,
   "sideBar": true,
   "skip_h1_title": false,
   "title_cell": "Table of Contents",
   "title_sidebar": "Contents",
   "toc_cell": true,
   "toc_position": {
    "height": "460px",
    "left": "1132px",
    "top": "54px",
    "width": "201.891px"
   },
   "toc_section_display": true,
   "toc_window_display": true
  },
  "varInspector": {
   "cols": {
    "lenName": 16,
    "lenType": 16,
    "lenVar": 40
   },
   "kernels_config": {
    "python": {
     "delete_cmd_postfix": "",
     "delete_cmd_prefix": "del ",
     "library": "var_list.py",
     "varRefreshCmd": "print(var_dic_list())"
    },
    "r": {
     "delete_cmd_postfix": ") ",
     "delete_cmd_prefix": "rm(",
     "library": "var_list.r",
     "varRefreshCmd": "cat(var_dic_list()) "
    }
   },
   "position": {
    "height": "523.391px",
    "left": "19.7969px",
    "right": "20px",
    "top": "63px",
    "width": "774.391px"
   },
   "types_to_exclude": [
    "module",
    "function",
    "builtin_function_or_method",
    "instance",
    "_Feature"
   ],
   "window_display": false
  }
 },
 "nbformat": 4,
 "nbformat_minor": 2
}
