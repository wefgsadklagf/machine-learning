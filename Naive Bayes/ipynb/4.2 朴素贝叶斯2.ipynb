{
 "cells": [
  {
   "cell_type": "markdown",
   "metadata": {
    "toc": true
   },
   "source": [
    "<h1>Table of Contents<span class=\"tocSkip\"></span></h1>\n",
    "<div class=\"toc\"><ul class=\"toc-item\"><li><span><a href=\"#模型构建\" data-toc-modified-id=\"模型构建-1\"><span class=\"toc-item-num\">1&nbsp;&nbsp;</span>模型构建</a></span></li><li><span><a href=\"#模型验证\" data-toc-modified-id=\"模型验证-2\"><span class=\"toc-item-num\">2&nbsp;&nbsp;</span>模型验证</a></span></li><li><span><a href=\"#sklearn-GaussianNB\" data-toc-modified-id=\"sklearn-GaussianNB-3\"><span class=\"toc-item-num\">3&nbsp;&nbsp;</span>sklearn GaussianNB</a></span></li></ul></div>"
   ]
  },
  {
   "cell_type": "markdown",
   "metadata": {},
   "source": [
    "# 模型构建"
   ]
  },
  {
   "cell_type": "code",
   "execution_count": 29,
   "metadata": {},
   "outputs": [],
   "source": [
    "import numpy as np\n",
    "from scipy import stats\n",
    "import matplotlib.pyplot as plt\n",
    "from collections import Counter"
   ]
  },
  {
   "cell_type": "code",
   "execution_count": 82,
   "metadata": {},
   "outputs": [],
   "source": [
    "class GuassianNaiveBayes:\n",
    "    def __init__(self):\n",
    "        self.model = None\n",
    "    \n",
    "    '''\n",
    "    function: 计算传入数据data的均值与方差\n",
    "    '''\n",
    "    def CalCalculateGaussian(self, data):\n",
    "        # 与 zip 相反，*zipped 可理解为解压，返回二维矩阵式\n",
    "        return [(np.mean(feature), np.std(feature)) for feature in zip(*data)]\n",
    "    \n",
    "    \"\"\"\n",
    "    function: 计算先验概率\n",
    "        X: 训练数据， \n",
    "        Y: 标签\n",
    "    \"\"\"\n",
    "    def fit(self, X, Y): \n",
    "        labels_counter = Counter(Y)\n",
    "        self.labels_prob = {label:count/len(Y) for label,count in labels_counter.items()}\n",
    "        # 数据分类存放\n",
    "        dataset = {label:[] for label in labels_counter.keys()}\n",
    "        for x, y in zip(X, Y):\n",
    "            dataset[y].append(x)\n",
    "        # 计算条件概率p(x|y)\n",
    "        self.features_prob = {label:self.CalCalculateGaussian(data)\\\n",
    "                              for label, data in dataset.items()}\n",
    "        print('labels probability', self.labels_prob)\n",
    "        print('The parameters of features\\' conditional probability:', self.features_prob)\n",
    "        \n",
    "    '''\n",
    "    function: 预测X中的元素的样本\n",
    "        X: 输入数据\n",
    "    '''\n",
    "    def predict(self, X):\n",
    "        result = []\n",
    "        for x in X:\n",
    "            posterior = {}\n",
    "            for label in self.labels_prob.keys():\n",
    "                posterior[label] = self.labels_prob[label]\n",
    "                for i_feature, mustd in enumerate(self.features_prob[label]):\n",
    "                    posterior[label] *= stats.norm(mustd[0], mustd[1]).pdf(x[i_feature])\n",
    "            result.append(sorted(posterior.items(), key=lambda x:x[-1])[-1][0])\n",
    "        return result"
   ]
  },
  {
   "cell_type": "markdown",
   "metadata": {},
   "source": [
    "# 模型验证"
   ]
  },
  {
   "cell_type": "code",
   "execution_count": 91,
   "metadata": {},
   "outputs": [],
   "source": [
    "from sklearn.datasets import load_iris\n",
    "from sklearn.model_selection import train_test_split\n",
    "import pandas as pd"
   ]
  },
  {
   "cell_type": "code",
   "execution_count": 84,
   "metadata": {},
   "outputs": [
    {
     "name": "stdout",
     "output_type": "stream",
     "text": [
      "(150, 3)\n"
     ]
    }
   ],
   "source": [
    "iris = load_iris()\n",
    "iris_df = pd.DataFrame(iris.data, columns=iris.feature_names)\n",
    "iris_df['label'] = iris.target\n",
    "\n",
    "# 选取 0， 1， -1三列\n",
    "data = np.array(iris_df.iloc[:, [0, 1, -1]])\n",
    "X, Y = data[:, :-1], data[:, -1]\n",
    "print(data.shape)"
   ]
  },
  {
   "cell_type": "code",
   "execution_count": 85,
   "metadata": {},
   "outputs": [
    {
     "name": "stdout",
     "output_type": "stream",
     "text": [
      "labels probability {0.0: 0.3333333333333333, 1.0: 0.3333333333333333, 2.0: 0.3333333333333333}\n",
      "The parameters of features' conditional probability: {0.0: [(5.006, 0.3489469873777391), (3.428, 0.37525458025186054)], 1.0: [(5.936, 0.5109833656783751), (2.7700000000000005, 0.31064449134018135)], 2.0: [(6.587999999999998, 0.6294886813914926), (2.974, 0.3192553836664309)]}\n"
     ]
    }
   ],
   "source": [
    "model = GuassianNaiveBayes()\n",
    "model.fit(X, Y)"
   ]
  },
  {
   "cell_type": "code",
   "execution_count": 86,
   "metadata": {},
   "outputs": [
    {
     "name": "stdout",
     "output_type": "stream",
     "text": [
      "[1.0, 0.0, 0.0, 1.0]\n"
     ]
    }
   ],
   "source": [
    "XTEST = [(5.5, 2.8), (5.5, 3.5), (4.5, 3.5), (6.5, 2.5)]\n",
    "results = model.predict(XTEST)\n",
    "print(results)"
   ]
  },
  {
   "cell_type": "code",
   "execution_count": 89,
   "metadata": {},
   "outputs": [
    {
     "data": {
      "text/plain": [
       "<matplotlib.legend.Legend at 0x269c5dcdd88>"
      ]
     },
     "execution_count": 89,
     "metadata": {},
     "output_type": "execute_result"
    },
    {
     "data": {
      "image/png": "[encoded data removed]",
      "text/plain": [
       "<Figure size 432x288 with 1 Axes>"
      ]
     },
     "metadata": {
      "needs_background": "light"
     },
     "output_type": "display_data"
    }
   ],
   "source": [
    "# 可视化\n",
    "plt.plot(data[:50, 0], data[:50, 1], '+', label='0')\n",
    "plt.plot(data[50:100, 0], data[50:100, 1], '.', label='1')\n",
    "plt.plot(data[100:, 0], data[100:, 1], '*', label='2')\n",
    "for i, point in enumerate(XTEST):\n",
    "    plt.plot(point[0], point[1], 'o', label='Test Point {0}'.format(i))\n",
    "plt.xlabel('speal length (cm)')\n",
    "plt.ylabel('speal width (cm)')\n",
    "plt.legend()"
   ]
  },
  {
   "cell_type": "code",
   "execution_count": 101,
   "metadata": {},
   "outputs": [
    {
     "name": "stdout",
     "output_type": "stream",
     "text": [
      "labels probability {1.0: 0.3482142857142857, 0.0: 0.32142857142857145, 2.0: 0.33035714285714285}\n",
      "The parameters of features' conditional probability: {1.0: [(5.869230769230769, 0.5154802819745257), (2.7564102564102564, 0.3311168914329832)], 0.0: [(5.05, 0.3539460096932551), (3.4499999999999997, 0.4159994658116229)], 2.0: [(6.597297297297297, 0.6364965282962948), (2.9918918918918918, 0.34592483043666716)]}\n",
      "Number of mislabeled points out of a total 38 points : 9\n",
      "Accuracy = 76.32%\n"
     ]
    }
   ],
   "source": [
    "np.random.seed()\n",
    "X_train, X_test, Y_train, Y_test = train_test_split(X, Y)\n",
    "model = GuassianNaiveBayes()\n",
    "model.fit(X_train, Y_train)\n",
    "results = model.predict(X_test)\n",
    "scores = (results == Y_test)\n",
    "print('Number of mislabeled points out of a total %d points : %d' % (len(Y_test), len(Y_test) - scores.sum()))\n",
    "print('Accuracy = {:3.2f}%'.format(Counter(scores)[True]/len(Y_test) * 100))"
   ]
  },
  {
   "cell_type": "markdown",
   "metadata": {},
   "source": [
    "#  sklearn GaussianNB"
   ]
  },
  {
   "cell_type": "code",
   "execution_count": 102,
   "metadata": {},
   "outputs": [],
   "source": [
    "from sklearn.naive_bayes import GaussianNB"
   ]
  },
  {
   "cell_type": "code",
   "execution_count": 103,
   "metadata": {},
   "outputs": [
    {
     "data": {
      "text/plain": [
       "GaussianNB(priors=None, var_smoothing=1e-09)"
      ]
     },
     "execution_count": 103,
     "metadata": {},
     "output_type": "execute_result"
    }
   ],
   "source": [
    "clf = GaussianNB()\n",
    "clf.fit(X_train, Y_train)"
   ]
  },
  {
   "cell_type": "code",
   "execution_count": 104,
   "metadata": {},
   "outputs": [
    {
     "name": "stdout",
     "output_type": "stream",
     "text": [
      "Accuracy = 76.32%\n"
     ]
    }
   ],
   "source": [
    "print('Accuracy = {:3.2f}%'.format(clf.score(X_test, Y_test) * 100))"
   ]
  }
 ],
 "metadata": {
  "hide_input": false,
  "kernelspec": {
   "display_name": "Python 3",
   "language": "python",
   "name": "python3"
  },
  "language_info": {
   "codemirror_mode": {
    "name": "ipython",
    "version": 3
   },
   "file_extension": ".py",
   "mimetype": "text/x-python",
   "name": "python",
   "nbconvert_exporter": "python",
   "pygments_lexer": "ipython3",
   "version": "3.7.4"
  },
  "toc": {
   "base_numbering": 1,
   "nav_menu": {},
   "number_sections": true,
   "sideBar": true,
   "skip_h1_title": false,
   "title_cell": "Table of Contents",
   "title_sidebar": "Contents",
   "toc_cell": true,
   "toc_position": {},
   "toc_section_display": true,
   "toc_window_display": true
  },
  "varInspector": {
   "cols": {
    "lenName": 16,
    "lenType": 16,
    "lenVar": 40
   },
   "kernels_config": {
    "python": {
     "delete_cmd_postfix": "",
     "delete_cmd_prefix": "del ",
     "library": "var_list.py",
     "varRefreshCmd": "print(var_dic_list())"
    },
    "r": {
     "delete_cmd_postfix": ") ",
     "delete_cmd_prefix": "rm(",
     "library": "var_list.r",
     "varRefreshCmd": "cat(var_dic_list()) "
    }
   },
   "types_to_exclude": [
    "module",
    "function",
    "builtin_function_or_method",
    "instance",
    "_Feature"
   ],
   "window_display": false
  }
 },
 "nbformat": 4,
 "nbformat_minor": 2
}
