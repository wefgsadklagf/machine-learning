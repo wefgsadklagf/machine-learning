{
 "cells": [
  {
   "cell_type": "markdown",
   "metadata": {
    "toc": true
   },
   "source": [
    "<h1>Table of Contents<span class=\"tocSkip\"></span></h1>\n",
    "<div class=\"toc\"><ul class=\"toc-item\"><li><span><a href=\"#邮件分类器\" data-toc-modified-id=\"邮件分类器-1\"><span class=\"toc-item-num\">1&nbsp;&nbsp;</span>邮件分类器</a></span></li><li><span><a href=\"#参考文献\" data-toc-modified-id=\"参考文献-2\"><span class=\"toc-item-num\">2&nbsp;&nbsp;</span>参考文献</a></span></li></ul></div>"
   ]
  },
  {
   "cell_type": "markdown",
   "metadata": {},
   "source": [
    "# 邮件分类器"
   ]
  },
  {
   "cell_type": "code",
   "execution_count": 1,
   "metadata": {},
   "outputs": [],
   "source": [
    "# -*- coding: UTF-8 -*-\n",
    "import numpy as np\n",
    "import re\n",
    "import random"
   ]
  },
  {
   "cell_type": "code",
   "execution_count": 2,
   "metadata": {},
   "outputs": [],
   "source": [
    "\"\"\"\n",
    "Function:将切分的实验样本词条整理成不重复的词条列表，也就是词汇表\n",
    "Parameters:\n",
    "    dataSet - 整理的样本数据集\n",
    "Returns:\n",
    "    vocabSet - 返回不重复的词条列表，也就是词汇表\n",
    "\"\"\"\n",
    "def createVocabList(dataSet):\n",
    "    vocabSet = set([])  # 创建一个空的不重复列表\n",
    "    for document in dataSet:\n",
    "        vocabSet = vocabSet | set(document)  # 取并集\n",
    "    return list(vocabSet)"
   ]
  },
  {
   "cell_type": "code",
   "execution_count": 3,
   "metadata": {},
   "outputs": [],
   "source": [
    "\"\"\"\n",
    "Function:根据vocabList词汇表，将inputSet向量化，向量的每个元素为1或0\n",
    "Parameters:\n",
    "    vocabList - createVocabList返回的列表\n",
    "    inputSet - 切分的词条列表\n",
    "Returns:\n",
    "    returnVec - 文档向量,词集模型\n",
    "\"\"\"\n",
    "def setOfWords2Vec(vocabList, inputSet):\n",
    "    returnVec = [0] * len(vocabList)               #创建一个其中所含元素都为0的向量\n",
    "    for word in inputSet:                          #遍历每个词条\n",
    "        if word in vocabList:                      #如果词条存在于词汇表中，则置1\n",
    "            returnVec[vocabList.index(word)] = 1\n",
    "        else:\n",
    "            print(\"the word: %s is not in my Vocabulary!\" % word)\n",
    "    return returnVec        #返回文档向量"
   ]
  },
  {
   "cell_type": "code",
   "execution_count": 4,
   "metadata": {},
   "outputs": [],
   "source": [
    "\"\"\"\n",
    "函数说明:根据vocabList词汇表，构建词袋模型\n",
    "Parameters:\n",
    "    vocabList - createVocabList返回的列表\n",
    "    inputSet - 切分的词条列表\n",
    "Returns:\n",
    "    returnVec - 文档向量,词袋模型\n",
    "\"\"\"\n",
    "def bagOfWords2VecMN(vocabList, inputSet):\n",
    "    returnVec = [0] * len(vocabList)  # 创建一个其中所含元素都为0的向量\n",
    "    for word in inputSet:             # 遍历每个词条\n",
    "        if word in vocabList:         # 如果词条存在于词汇表中，则计数加一\n",
    "            returnVec[vocabList.index(word)] += 1\n",
    "    return returnVec  # 返回词袋模型"
   ]
  },
  {
   "cell_type": "code",
   "execution_count": 5,
   "metadata": {},
   "outputs": [],
   "source": [
    "\"\"\"\n",
    "函数说明:朴素贝叶斯分类器训练函数\n",
    "Parameters:\n",
    "    trainMatrix - 训练文档矩阵，即setOfWords2Vec返回的returnVec构成的矩阵\n",
    "    trainCategory - 训练类别标签向量，即loadDataSet返回的classVec\n",
    "Returns:\n",
    "    p0Vect - 正常邮件类的条件概率数组\n",
    "    p1Vect - 垃圾邮件类的条件概率数组\n",
    "    pAbusive - 文档属于垃圾邮件类的概率\n",
    "\"\"\"\n",
    "def trainNB0(trainMatrix, trainCategory):\n",
    "    numTrainDocs = len(trainMatrix)  # 计算训练的文档数目\n",
    "    numWords = len(trainMatrix[0])  # 计算每篇文档的词条数\n",
    "    pAbusive = sum(trainCategory) / float(numTrainDocs)  # 文档属于垃圾邮件类的概率\n",
    "    p0Num = np.ones(numWords)\n",
    "    p1Num = np.ones(numWords)  # 创建numpy.ones数组,词条出现数初始化为1,拉普拉斯平滑\n",
    "    p0Denom = 1.0\n",
    "    p1Denom = 1.0  # 分母初始化为2 ,拉普拉斯平滑\n",
    "    for i in range(numTrainDocs):\n",
    "        if trainCategory[i] == 1:  # 统计属于侮辱类的条件概率所需的数据，即P(w0|1),P(w1|1),P(w2|1)···\n",
    "            p1Num += trainMatrix[i]\n",
    "            p1Denom += sum(trainMatrix[i])\n",
    "        else:  # 统计属于非侮辱类的条件概率所需的数据，即P(w0|0),P(w1|0),P(w2|0)···\n",
    "            p0Num += trainMatrix[i]\n",
    "            p0Denom += sum(trainMatrix[i])\n",
    "    p1Vect = np.log(p1Num / p1Denom)\n",
    "    p0Vect = np.log(p0Num / p0Denom)   #取对数，防止下溢出\n",
    "    return p0Vect, p1Vect, pAbusive  # 返回属于正常邮件类的条件概率数组，属于侮辱垃圾邮件类的条件概率数组，文档属于垃圾邮件类的概率"
   ]
  },
  {
   "cell_type": "code",
   "execution_count": 6,
   "metadata": {},
   "outputs": [],
   "source": [
    "\"\"\"\n",
    "函数说明:朴素贝叶斯分类器分类函数\n",
    "Parameters:\n",
    "    vec2Classify - 待分类的词条数组\n",
    "    p0Vec - 正常邮件类的条件概率数组\n",
    "    p1Vec - 垃圾邮件类的条件概率数组\n",
    "    pClass1 - 文档属于垃圾邮件的概率\n",
    "Returns:\n",
    "    0 - 属于正常邮件类\n",
    "    1 - 属于垃圾邮件类\n",
    "\"\"\"\n",
    "def classifyNB(vec2Classify, p0Vec, p1Vec, pClass1):\n",
    "    p1=sum(vec2Classify*p1Vec)+np.log(pClass1)\n",
    "    p0=sum(vec2Classify*p0Vec)+np.log(1.0-pClass1)\n",
    "    if p1 > p0:\n",
    "        return 1\n",
    "    else:\n",
    "        return 0"
   ]
  },
  {
   "cell_type": "code",
   "execution_count": 7,
   "metadata": {},
   "outputs": [],
   "source": [
    "\"\"\"\n",
    "函数说明:接收一个大字符串并将其解析为字符串列表\n",
    "\"\"\"\n",
    "def textParse(bigString):  # 将字符串转换为字符列表\n",
    "    listOfTokens = re.split(r'\\W*', bigString)  # 将特殊符号作为切分标志进行字符串切分，即非字母、非数字\n",
    "    return [tok.lower() for tok in listOfTokens if len(tok) > 2]  # 除了单个字母，例如大写的I，其它单词变成小写"
   ]
  },
  {
   "cell_type": "code",
   "execution_count": 8,
   "metadata": {},
   "outputs": [],
   "source": [
    "\"\"\"\n",
    "函数说明:测试朴素贝叶斯分类器，使用朴素贝叶斯进行交叉验证\n",
    "\"\"\"\n",
    "def spamTest():\n",
    "    docList = []\n",
    "    classList = []\n",
    "    fullText = []\n",
    "    for i in range(1, 5000):  # 遍历25个txt文件\n",
    "        wordList = textParse(open('/email/spam/%d.txt' % i, 'r').read())  # 读取每个垃圾邮件，并字符串转换成字符串列表\n",
    "        docList.append(wordList)\n",
    "        fullText.append(wordList)\n",
    "        classList.append(1)  # 标记垃圾邮件，1表示垃圾文件\n",
    "        wordList = textParse(open('/email/ham/%d.txt' % i, 'r').read())  # 读取每个非垃圾邮件，并字符串转换成字符串列表\n",
    "        docList.append(wordList)\n",
    "        fullText.append(wordList)\n",
    "        classList.append(0)  # 标记正常邮件，0表示正常文件\n",
    "    vocabList = createVocabList(docList)  # 创建词汇表，不重复\n",
    "    \n",
    "    trainingSet = list(range(50))\n",
    "    testSet = []  # 创建存储训练集的索引值的列表和测试集的索引值的列表\n",
    "    for i in range(10):  # 从50个邮件中，随机挑选出40个作为训练集,10个做测试集\n",
    "        randIndex = int(random.uniform(0, len(trainingSet)))  # 随机选取索索引值\n",
    "        testSet.append(trainingSet[randIndex])  # 添加测试集的索引值\n",
    "        del (trainingSet[randIndex])  # 在训练集列表中删除添加到测试集的索引值\n",
    "    \n",
    "    trainMat = []\n",
    "    trainClasses = []  # 创建训练集矩阵和训练集类别标签系向量\n",
    "    for docIndex in trainingSet:  # 遍历训练集\n",
    "        trainMat.append(setOfWords2Vec(vocabList, docList[docIndex]))  # 将生成的词集模型添加到训练矩阵中\n",
    "        trainClasses.append(classList[docIndex])  # 将类别添加到训练集类别标签系向量中\n",
    "    \n",
    "    p0V, p1V, pSpam = trainNB0(np.array(trainMat), np.array(trainClasses))  # 训练朴素贝叶斯模型\n",
    "    \n",
    "    errorCount = 0  # 错误分类计数\n",
    "    for docIndex in testSet:  # 遍历测试集\n",
    "        wordVector = setOfWords2Vec(vocabList, docList[docIndex])  # 测试集的词集模型\n",
    "        if classifyNB(np.array(wordVector), p0V, p1V, pSpam) != classList[docIndex]:  # 如果分类错误\n",
    "            errorCount += 1  # 错误计数加1\n",
    "            print(\"分类错误的测试集：\", docList[docIndex])\n",
    "    print('错误率：%.2f%%' % (float(errorCount) / len(testSet) * 100))"
   ]
  },
  {
   "cell_type": "code",
   "execution_count": 9,
   "metadata": {},
   "outputs": [
    {
     "ename": "FileNotFoundError",
     "evalue": "[Errno 2] No such file or directory: '/email/spam/1.txt'",
     "output_type": "error",
     "traceback": [
      "\u001b[1;31m---------------------------------------------------------------------------\u001b[0m",
      "\u001b[1;31mFileNotFoundError\u001b[0m                         Traceback (most recent call last)",
      "\u001b[1;32m<ipython-input-9-b80a62153a4e>\u001b[0m in \u001b[0;36m<module>\u001b[1;34m\u001b[0m\n\u001b[1;32m----> 1\u001b[1;33m \u001b[0mspamTest\u001b[0m\u001b[1;33m(\u001b[0m\u001b[1;33m)\u001b[0m\u001b[1;33m\u001b[0m\u001b[1;33m\u001b[0m\u001b[0m\n\u001b[0m",
      "\u001b[1;32m<ipython-input-8-af18598ac0a3>\u001b[0m in \u001b[0;36mspamTest\u001b[1;34m()\u001b[0m\n\u001b[0;32m      7\u001b[0m     \u001b[0mfullText\u001b[0m \u001b[1;33m=\u001b[0m \u001b[1;33m[\u001b[0m\u001b[1;33m]\u001b[0m\u001b[1;33m\u001b[0m\u001b[1;33m\u001b[0m\u001b[0m\n\u001b[0;32m      8\u001b[0m     \u001b[1;32mfor\u001b[0m \u001b[0mi\u001b[0m \u001b[1;32min\u001b[0m \u001b[0mrange\u001b[0m\u001b[1;33m(\u001b[0m\u001b[1;36m1\u001b[0m\u001b[1;33m,\u001b[0m \u001b[1;36m5000\u001b[0m\u001b[1;33m)\u001b[0m\u001b[1;33m:\u001b[0m  \u001b[1;31m# 遍历25个txt文件\u001b[0m\u001b[1;33m\u001b[0m\u001b[1;33m\u001b[0m\u001b[0m\n\u001b[1;32m----> 9\u001b[1;33m         \u001b[0mwordList\u001b[0m \u001b[1;33m=\u001b[0m \u001b[0mtextParse\u001b[0m\u001b[1;33m(\u001b[0m\u001b[0mopen\u001b[0m\u001b[1;33m(\u001b[0m\u001b[1;34m'/email/spam/%d.txt'\u001b[0m \u001b[1;33m%\u001b[0m \u001b[0mi\u001b[0m\u001b[1;33m,\u001b[0m \u001b[1;34m'r'\u001b[0m\u001b[1;33m)\u001b[0m\u001b[1;33m.\u001b[0m\u001b[0mread\u001b[0m\u001b[1;33m(\u001b[0m\u001b[1;33m)\u001b[0m\u001b[1;33m)\u001b[0m  \u001b[1;31m# 读取每个垃圾邮件，并字符串转换成字符串列表\u001b[0m\u001b[1;33m\u001b[0m\u001b[1;33m\u001b[0m\u001b[0m\n\u001b[0m\u001b[0;32m     10\u001b[0m         \u001b[0mdocList\u001b[0m\u001b[1;33m.\u001b[0m\u001b[0mappend\u001b[0m\u001b[1;33m(\u001b[0m\u001b[0mwordList\u001b[0m\u001b[1;33m)\u001b[0m\u001b[1;33m\u001b[0m\u001b[1;33m\u001b[0m\u001b[0m\n\u001b[0;32m     11\u001b[0m         \u001b[0mfullText\u001b[0m\u001b[1;33m.\u001b[0m\u001b[0mappend\u001b[0m\u001b[1;33m(\u001b[0m\u001b[0mwordList\u001b[0m\u001b[1;33m)\u001b[0m\u001b[1;33m\u001b[0m\u001b[1;33m\u001b[0m\u001b[0m\n",
      "\u001b[1;31mFileNotFoundError\u001b[0m: [Errno 2] No such file or directory: '/email/spam/1.txt'"
     ]
    }
   ],
   "source": [
    "spamTest()"
   ]
  },
  {
   "cell_type": "markdown",
   "metadata": {},
   "source": [
    "# 参考文献\n",
    "[1] https://www.cnblogs.com/asialee/p/9417659.html  \n",
    "[2] https://www.cnblogs.com/pinard/p/6069267.html  \n",
    "[3] 《统计学习方法》第 2 版，李航   \n",
    "[4] https://www.jianshu.com/p/4b67141e474e  \n",
    "[5] https://www.lagou.com/lgeduarticle/66914.html  \n",
    "[6] https://blog.csdn.net/codejas/article/details/80356544  "
   ]
  }
 ],
 "metadata": {
  "hide_input": false,
  "kernelspec": {
   "display_name": "Python 3",
   "language": "python",
   "name": "python3"
  },
  "language_info": {
   "codemirror_mode": {
    "name": "ipython",
    "version": 3
   },
   "file_extension": ".py",
   "mimetype": "text/x-python",
   "name": "python",
   "nbconvert_exporter": "python",
   "pygments_lexer": "ipython3",
   "version": "3.7.4"
  },
  "toc": {
   "base_numbering": 1,
   "nav_menu": {},
   "number_sections": true,
   "sideBar": true,
   "skip_h1_title": false,
   "title_cell": "Table of Contents",
   "title_sidebar": "Contents",
   "toc_cell": true,
   "toc_position": {},
   "toc_section_display": true,
   "toc_window_display": false
  },
  "varInspector": {
   "cols": {
    "lenName": 16,
    "lenType": 16,
    "lenVar": 40
   },
   "kernels_config": {
    "python": {
     "delete_cmd_postfix": "",
     "delete_cmd_prefix": "del ",
     "library": "var_list.py",
     "varRefreshCmd": "print(var_dic_list())"
    },
    "r": {
     "delete_cmd_postfix": ") ",
     "delete_cmd_prefix": "rm(",
     "library": "var_list.r",
     "varRefreshCmd": "cat(var_dic_list()) "
    }
   },
   "types_to_exclude": [
    "module",
    "function",
    "builtin_function_or_method",
    "instance",
    "_Feature"
   ],
   "window_display": false
  }
 },
 "nbformat": 4,
 "nbformat_minor": 2
}
