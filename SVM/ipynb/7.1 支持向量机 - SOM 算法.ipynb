{
 "cells": [
  {
   "cell_type": "markdown",
   "metadata": {
    "toc": true
   },
   "source": [
    "<h1>Table of Contents<span class=\"tocSkip\"></span></h1>\n",
    "<div class=\"toc\"><ul class=\"toc-item\"></ul></div>"
   ]
  },
  {
   "cell_type": "code",
   "execution_count": 1,
   "metadata": {},
   "outputs": [],
   "source": [
    "import numpy as np\n",
    "import random"
   ]
  },
  {
   "cell_type": "code",
   "execution_count": 2,
   "metadata": {
    "code_folding": []
   },
   "outputs": [],
   "source": [
    "class SVM:\n",
    "    def __init__(self, C, tolerance, epsilon, max_step, kernel, sigma = 0.5):\n",
    "        self.C = C # 参数 C\n",
    "        self.tolerance = tolerance # 容错率\n",
    "        self.epsilon = epsilon # 拉格朗日乘数更新的最小比率\n",
    "        self.max_step = max_step # 训练次数\n",
    "        self.kernel = kernel # 核函数类型： 'linear'、 'rbf'\n",
    "        self.sigma = sigma\n",
    "    \n",
    "    # 定义核函数\n",
    "    #sample：单样本，行向量\n",
    "    def Kernel(self, X, sample):\n",
    "        if self.kernel == 'linear': # 线性核函数\n",
    "            result = np.dot(X, sample.T).reshape(-1, 1)\n",
    "        elif self.kernel == 'rbf': # 高斯核函数\n",
    "            result = np.exp(-np.linalg.norm(X - sample, ord = 2, axis = 1,\n",
    "                                            keepdims = True)**2 / (2*self.sigma**2))\n",
    "        else:\n",
    "            result = None\n",
    "            print('Non-legal kernel')\n",
    "        return result\n",
    "    \n",
    "    # 计算 Gram 矩阵\n",
    "    def Gram(self, X):\n",
    "        self.K = np.zeros((self.N, self.N))\n",
    "        for i, x in enumerate(X):\n",
    "            self.K[i, :] = self.Kernel(X, x).reshape(1, -1)\n",
    "            \n",
    "    # 更新 alpha1、 alpha2、 b、 E\n",
    "    # 返回：成功更新， True；否则， False\n",
    "    def update(self, index1, index2, X, Y):\n",
    "        if (index1 == index2): # 两个相同的拉格朗日乘数，无更新必要\n",
    "            return False\n",
    "        # 取出乘数 alpha\n",
    "        alpha1 = self.alpha[index1][0]\n",
    "        alpha2 = self.alpha[index2][0]\n",
    "        # 取出输入向量\n",
    "        x1 = X[index1].reshape(-1, 1)\n",
    "        x2 = X[index2].reshape(-1, 1)\n",
    "        # 取出标签\n",
    "        y1 = Y[index1][0]\n",
    "        y2 = Y[index2][0]\n",
    "        # 取出 E\n",
    "        E1 = self.E[index1][0]\n",
    "        E2 = self.E[index2][0]\n",
    "        # 计算 alpha 的上界 H 与下界 L\n",
    "        if (y1 == y2):\n",
    "            L = max(0, alpha2 + alpha1 - self.C)\n",
    "            H = min(self.C, alpha2 + alpha1)\n",
    "        else:\n",
    "            L = max(0, alpha2 - alpha1)\n",
    "            H = min(self.C, self.C + alpha2 - alpha1)\n",
    "        if (L == H): # 相同的下界与上界，无更新必要\n",
    "            return False\n",
    "        # 计算 eta\n",
    "        k11 = self.K[index1, index1]\n",
    "        k22 = self.K[index2, index2]\n",
    "        k12 = self.K[index1, index2]\n",
    "        eta = k11 + k22 - 2 * k12\n",
    "        if eta <= 0: # 不更新\n",
    "            return False\n",
    "        alpha2_new = alpha2 + y2 * (E1 - E2) / eta # 计算 alpha2 的新值\n",
    "        alpha2_new = min(max(alpha2_new, L), H) # 对 alpha2 进行 [L, H] 裁剪\n",
    "        if abs(alpha2_new - alpha2) < self.epsilon * (alpha2_new + alpha2 + self.epsilon): # 无更新必要\n",
    "            return False\n",
    "        alpha1_new = alpha1 + y1 * y2 * (alpha2 - alpha2_new) # 计算 alpha1 的新值\n",
    "        # 计算 b1 和 b2，并且更新 b\n",
    "        b1 = -E1 - y1 * k11 * (alpha1_new - alpha1) - y2 * k12 * (alpha2_new - alpha2) + self.b\n",
    "        b2 = -E2 - y1 * k12 * (alpha1_new - alpha1) - y2 * k22 * (alpha2_new - alpha2) + self.b\n",
    "        if alpha1_new > 0 and alpha1_new < self.C:\n",
    "            self.b = b1\n",
    "        elif alpha2_new > 0 and alpha2_new < self.C:\n",
    "            self.b = b2\n",
    "        else:\n",
    "            self.b = (b1 + b2) / 2\n",
    "        # 保存 alpha1_new 和 alpha2_new，并确保约束 >=0\n",
    "        self.alpha[index1][0] = max(0, alpha1_new)\n",
    "        self.alpha[index2][0] = max(0, alpha2_new)\n",
    "        # 更新 E\n",
    "        self.E = np.dot((self.alpha * Y).T, self.K).reshape(-1, 1) + self.b - Y\n",
    "        return True\n",
    "    \n",
    "    # 找出最佳的 2 个样本点，并启动更新\n",
    "    #index：给定的第 2 个样本点索引\n",
    "    def MatchTwoSamples(self, index, X, Y):\n",
    "        y2 = Y[index][0]\n",
    "        alpha2 = self.alpha[index][0]\n",
    "        E2 = self.E[index][0]\n",
    "        # 容忍度： E*y=(g(x)-y)y=g(x)y-y^2=g(x)y-1， g(x) 是 y 的实际输出值，\n",
    "        # 两者越相似越好，此时 tol 接近 0\n",
    "        tol = E2 * y2\n",
    "        if ((tol < -self.tolerance and alpha2 < self.C) or \n",
    "            (tol > self.tolerance and alpha2 > 0)): # 不符合 KKT 条件，需调整\n",
    "        # 采取启发式方法，确定另一个乘数 alpha1，找出满足 0<alpha1<C 的点\n",
    "            list1 = np.nonzero(self.alpha)[0].tolist() # 找出所有非 0 的 alpha（索引）\n",
    "            # 找出所有非 C 的 alpha（索引）\n",
    "            list2 = np.nonzero(self.alpha - self.C)[0].tolist()\n",
    "            result = list(set(list1) & set(list2))\n",
    "            if len(result) > 1: # 至少有 2 个及以上的候选点，选择一个最好的\n",
    "                max_diff = -1\n",
    "                max_index = -1\n",
    "                for k in result:\n",
    "                    diff = abs(self.E[k][0] - E2)\n",
    "                    if diff > max_diff:\n",
    "                        max_diff = diff\n",
    "                        max_index = k\n",
    "                if self.update(max_index, index, X, Y): # 更新这 2 个乘数\n",
    "                    return True\n",
    "                # 如果没有成功更新，则随机产生一个位置，逐个尝试每个乘数\n",
    "                random_index = random.randint(0, len(result)-1)\n",
    "                for k in range(random_index, len(result)):\n",
    "                    if self.update(k, index, X, Y): # 更新这 2 个乘数\n",
    "                        return True\n",
    "                for k in range(0, random_index):\n",
    "                    if self.update(k, index, X, Y): # 更新这 2 个乘数\n",
    "                        return True\n",
    "            # 从所有可能的乘数中，随机选择一个\n",
    "            random_index = random.randint(0, self.N-1)\n",
    "            if self.update(random_index, index, X, Y): # 更新这 2 个乘数\n",
    "                return True\n",
    "        return False\n",
    "    \n",
    "    def fit(self, X, Y):\n",
    "        self.X = X # 在使用核函数的情况下，需要保存数据集\n",
    "        self.Y = Y\n",
    "        self.N = len(X)\n",
    "        self.b = 0\n",
    "        self.alpha = np.zeros((self.N, 1))\n",
    "        self.Gram(X) # 计算 Gram 矩阵\n",
    "        # 初始化 E\n",
    "        self.E = np.dot((self.alpha * Y).T, self.K).reshape(-1, 1) + self.b - Y\n",
    "        # 开始训练\n",
    "        self.paras = [] # 存放中间权值的结果，用于生成动画\n",
    "        for step in range(self.max_step):\n",
    "            numChanged = 0\n",
    "            everyone = True # 确保第一次要全局遍历\n",
    "            while numChanged > 0 or everyone:\n",
    "                numChanged = 0\n",
    "                if everyone:\n",
    "                    for k in range(self.N):\n",
    "                        numChanged += self.MatchTwoSamples(k, X, Y)\n",
    "                        if self.kernel == 'linear':\n",
    "                            # 保存权值\n",
    "                            self.paras.append((self.b, *np.dot(X.T, (self.alpha * Y)).reshape(1, -1).tolist()))\n",
    "                        else: # 其它的核函数\n",
    "                            # 在使用其它核函数的情况下，只能保存每个样本对应的乘数\n",
    "                            self.paras.append((self.b, self.alpha))\n",
    "                else:\n",
    "                    for k in range(self.N):\n",
    "                        if self.alpha[k] == 0 or self.alpha[k] == self.C:\n",
    "                            continue\n",
    "                        numChanged += self.MatchTwoSamples(k, X, Y)\n",
    "                        if self.kernel == 'linear':\n",
    "                                # 保存权值\n",
    "                            self.paras.append((self.b, *np.dot(X.T, (self.alpha * Y)).reshape(1, -1).tolist())) \n",
    "                        else: # 其它的核函数\n",
    "                                # 在使用其它核函数的情况下，只能保存每个样本对应的乘数\n",
    "                            self.paras.append((self.b, self.alpha))\n",
    "                if everyone:\n",
    "                    everyone = False\n",
    "                elif numChanged == 0:\n",
    "                    everyone = True\n",
    "        if self.kernel == 'linear': # 计算 W\n",
    "            self.W = np.dot(X.T, (self.alpha * Y))\n",
    "            print(self.b, self.W)\n",
    "        print('SVM training completed!')\n",
    "        \n",
    "    def predict(self, X):\n",
    "        result = []\n",
    "        for x in X:\n",
    "            z = np.dot((self.alpha * self.Y).T, self.Kernel(self.X, x)) + self.b\n",
    "            result.append(1 if z >= 0 else -1)\n",
    "        return result"
   ]
  },
  {
   "cell_type": "code",
   "execution_count": 3,
   "metadata": {},
   "outputs": [],
   "source": [
    "from sklearn.model_selection import train_test_split\n",
    "import matplotlib.pyplot as plt\n",
    "%matplotlib inline"
   ]
  },
  {
   "cell_type": "code",
   "execution_count": 4,
   "metadata": {},
   "outputs": [],
   "source": [
    "iris_npz = np.load('iris.npz')\n",
    "data = iris_npz['data']\n",
    "X = iris_npz['X']\n",
    "Y = iris_npz['Y']\n",
    "# 转换成适合 SVM 处理的标签\n",
    "Y[:50] = 1\n",
    "Y[50:] = -1"
   ]
  },
  {
   "cell_type": "code",
   "execution_count": 5,
   "metadata": {},
   "outputs": [],
   "source": [
    "XTRAIN, XTEST, YTRAIN, YTEST = train_test_split(X, Y, test_size = 0.25)"
   ]
  },
  {
   "cell_type": "code",
   "execution_count": 6,
   "metadata": {
    "scrolled": true
   },
   "outputs": [
    {
     "name": "stdout",
     "output_type": "stream",
     "text": [
      "3.8432842556708406 [[-1.9952872]\n",
      " [ 2.2446981]]\n",
      "SVM training completed!\n"
     ]
    }
   ],
   "source": [
    "svm = SVM(1.0, 0.001, 0.01, 2, 'linear')\n",
    "svm.fit(XTRAIN, YTRAIN.reshape(-1, 1))"
   ]
  },
  {
   "cell_type": "code",
   "execution_count": 7,
   "metadata": {},
   "outputs": [
    {
     "name": "stdout",
     "output_type": "stream",
     "text": [
      "[-1, 1, 1, -1]\n"
     ]
    }
   ],
   "source": [
    "XSAMPLES = np.array([(5.5, 2.8), (5.5, 4.0), (4.5, 3.5), (6.5, 2.5)])\n",
    "results = svm.predict(XSAMPLES)\n",
    "print(results)"
   ]
  },
  {
   "cell_type": "code",
   "execution_count": 8,
   "metadata": {
    "scrolled": true
   },
   "outputs": [
    {
     "data": {
      "text/plain": [
       "<matplotlib.legend.Legend at 0x250266fdfc8>"
      ]
     },
     "execution_count": 8,
     "metadata": {},
     "output_type": "execute_result"
    },
    {
     "data": {
      "image/png": "[encoded data removed]",
      "text/plain": [
       "<Figure size 432x288 with 1 Axes>"
      ]
     },
     "metadata": {
      "needs_background": "light"
     },
     "output_type": "display_data"
    }
   ],
   "source": [
    "plt.plot(data[:50, 0], data[:50, 1], '+', label='1')\n",
    "plt.plot(data[50:100, 0], data[50:100, 1], '.', label='-1')\n",
    "# 绘制支持向量\n",
    "for k, alpha in enumerate(svm.alpha):\n",
    "    if alpha > 0.1:\n",
    "        plt.scatter(XTRAIN[k][0], XTRAIN[k][1], s = 80, c = 'none',\n",
    "        linewidth=1.5, edgecolor = 'red')\n",
    "# 生成绘图用的网格\n",
    "x0_min, x0_max = X[:, 0].min() - 1, X[:, 0].max() + 1\n",
    "x1_min, x1_max = X[:, 1].min() - 1, X[:, 1].max() + 1\n",
    "xx0, xx1 = np.meshgrid(np.arange(x0_min, x0_max, 0.02),np.arange(x1_min, x1_max, 0.02))\n",
    "z = np.array(svm.predict(np.c_[xx0.ravel(), xx1.ravel()]))\n",
    "z = z.reshape(xx0.shape)\n",
    "plt.contourf(xx0, xx1, z, cmap = plt.cm.Paired, alpha = 0.3)\n",
    "plt.xlabel('sepal length (cm)')\n",
    "plt.ylabel('sepal width (cm)')\n",
    "plt.legend()"
   ]
  },
  {
   "cell_type": "code",
   "execution_count": 9,
   "metadata": {
    "scrolled": false
   },
   "outputs": [
    {
     "data": {
      "image/png": "[encoded data removed]",
      "text/plain": [
       "<Figure size 432x288 with 1 Axes>"
      ]
     },
     "metadata": {
      "needs_background": "light"
     },
     "output_type": "display_data"
    }
   ],
   "source": [
    "import matplotlib.animation as animation\n",
    "from IPython.display import HTML\n",
    "# 动画播放，如果是%matplotlib inline，则会嵌入图片\n",
    "%matplotlib inline\n",
    "fig = plt.figure()\n",
    "ax = plt.axes(xlim=(3, 7), ylim=(2, 5))\n",
    "ax.plot(data[:50, 0], data[:50, 1], '+', label='1')\n",
    "ax.plot(data[50:100, 0], data[50:100, 1], '.', label='-1')\n",
    "ax.set_xlabel('sepal length (cm)')\n",
    "ax.set_ylabel('sepal width (cm)')\n",
    "ax.set_title('Support Vector Machine')\n",
    "ax.legend(loc = 'upper left')\n",
    "line, = ax.plot([], [], lw = 2)\n",
    "\n",
    "def update(para):\n",
    "    b = para[0]\n",
    "    W0 = para[1][0]\n",
    "    W1 = para[1][1]\n",
    "    if W1 == 0:\n",
    "        return\n",
    "    X_points = np.linspace(4, 7,10)\n",
    "    Y_points = -(W0 * X_points + b)/W1\n",
    "    line.set_data(X_points, Y_points)\n",
    "ani = animation.FuncAnimation(fig, update, svm.paras)\n",
    "\n",
    "HTML(ani.to_html5_video())\n",
    "ani.save('SVM_Fitting.mp4')"
   ]
  },
  {
   "cell_type": "code",
   "execution_count": 10,
   "metadata": {},
   "outputs": [
    {
     "name": "stdout",
     "output_type": "stream",
     "text": [
      "Accuracy = 100.00%\n"
     ]
    }
   ],
   "source": [
    "from collections import Counter\n",
    "\n",
    "results = svm.predict(XTEST)\n",
    "scores = (results == YTEST)\n",
    "scores = [score for score in scores]\n",
    "print('Accuracy = {:3.2f}%'.format(Counter(scores)[True]/len(YTEST) * 100))"
   ]
  },
  {
   "cell_type": "code",
   "execution_count": 11,
   "metadata": {},
   "outputs": [
    {
     "name": "stdout",
     "output_type": "stream",
     "text": [
      "SVM training completed!\n"
     ]
    }
   ],
   "source": [
    "svm = SVM(1.0, 0.001, 0.01, 2, 'rbf', sigma = 1.0)\n",
    "svm.fit(XTRAIN, YTRAIN.reshape(-1,1))"
   ]
  },
  {
   "cell_type": "code",
   "execution_count": 12,
   "metadata": {},
   "outputs": [
    {
     "name": "stdout",
     "output_type": "stream",
     "text": [
      "[-1, 1, 1, -1]\n"
     ]
    }
   ],
   "source": [
    "XSAMPLES = np.array([(5.5, 2.8), (5.5, 4.0), (4.5, 3.5), (6.5, 2.5)])\n",
    "results = svm.predict(XSAMPLES)\n",
    "print(results)"
   ]
  },
  {
   "cell_type": "code",
   "execution_count": 13,
   "metadata": {},
   "outputs": [
    {
     "name": "stdout",
     "output_type": "stream",
     "text": [
      "Accuracy = 100.00%\n"
     ]
    }
   ],
   "source": [
    "results = svm.predict(XTEST)\n",
    "scores = (results == YTEST)\n",
    "scores = [score for score in scores]\n",
    "print('Accuracy = {:3.2f}%'.format(Counter(scores)[True]/len(YTEST) * 100))"
   ]
  },
  {
   "cell_type": "code",
   "execution_count": 14,
   "metadata": {},
   "outputs": [
    {
     "data": {
      "text/plain": [
       "<matplotlib.legend.Legend at 0x25027921288>"
      ]
     },
     "execution_count": 14,
     "metadata": {},
     "output_type": "execute_result"
    },
    {
     "data": {
      "image/png": "[encoded data removed]",
      "text/plain": [
       "<Figure size 432x288 with 1 Axes>"
      ]
     },
     "metadata": {
      "needs_background": "light"
     },
     "output_type": "display_data"
    }
   ],
   "source": [
    "%matplotlib inline\n",
    "plt.plot(data[:50, 0], data[:50, 1], '+', label='1')\n",
    "plt.plot(data[50:100, 0], data[50:100, 1], '.', label='-1')\n",
    "# 绘制支持向量\n",
    "for k, alpha in enumerate(svm.alpha):\n",
    "    if alpha > 0.1:\n",
    "        plt.scatter(XTRAIN[k][0], XTRAIN[k][1], s = 80, c = 'none', linewidth=1.5, edgecolor = 'red')\n",
    "# 生成绘图用的网格\n",
    "x0_min, x0_max = X[:, 0].min() - 1, X[:, 0].max() + 1\n",
    "x1_min, x1_max = X[:, 1].min() - 1, X[:, 1].max() + 1\n",
    "xx0, xx1 = np.meshgrid(np.arange(x0_min, x0_max, 0.02), np.arange(x1_min, x1_max, 0.02))\n",
    "z = np.array(svm.predict(np.c_[xx0.ravel(), xx1.ravel()]))\n",
    "z = z.reshape(xx0.shape)\n",
    "plt.contourf(xx0, xx1, z, cmap = plt.cm.Paired, alpha = 0.5)\n",
    "plt.xlabel('sepal length (cm)')\n",
    "plt.ylabel('sepal width (cm)')\n",
    "plt.xlim(xx0.min(), xx0.max())\n",
    "plt.ylim(xx1.min(), xx1.max())\n",
    "plt.legend()"
   ]
  },
  {
   "cell_type": "code",
   "execution_count": 15,
   "metadata": {},
   "outputs": [
    {
     "data": {
      "text/plain": [
       "SVC(C=1.0, cache_size=200, class_weight=None, coef0=0.0,\n",
       "    decision_function_shape='ovr', degree=3, gamma='auto', kernel='linear',\n",
       "    max_iter=-1, probability=False, random_state=None, shrinking=True,\n",
       "    tol=0.001, verbose=False)"
      ]
     },
     "execution_count": 15,
     "metadata": {},
     "output_type": "execute_result"
    }
   ],
   "source": [
    "from sklearn.svm import SVC\n",
    "clf = SVC(kernel = 'linear')\n",
    "clf.fit(XTRAIN, YTRAIN)\n",
    "SVC(C=1.0, cache_size=200, class_weight=None, coef0=0.0,decision_function_shape='ovr', degree=3, gamma='auto', kernel='linear',max_iter=-1, probability=False, random_state=None, shrinking=True,tol=0.001, verbose=False)"
   ]
  },
  {
   "cell_type": "code",
   "execution_count": 16,
   "metadata": {},
   "outputs": [
    {
     "name": "stdout",
     "output_type": "stream",
     "text": [
      "[[-2.00182665  2.26751432]] [3.7938533]\n"
     ]
    }
   ],
   "source": [
    "print(clf.coef_, clf.intercept_)"
   ]
  },
  {
   "cell_type": "code",
   "execution_count": 17,
   "metadata": {},
   "outputs": [
    {
     "data": {
      "text/plain": [
       "<matplotlib.legend.Legend at 0x25027921a08>"
      ]
     },
     "execution_count": 17,
     "metadata": {},
     "output_type": "execute_result"
    },
    {
     "data": {
      "image/png": "[encoded data removed]",
      "text/plain": [
       "<Figure size 432x288 with 1 Axes>"
      ]
     },
     "metadata": {
      "needs_background": "light"
     },
     "output_type": "display_data"
    }
   ],
   "source": [
    "%matplotlib inline\n",
    "plt.plot(data[:50, 0], data[:50, 1], '+', label='1')\n",
    "plt.plot(data[50:100, 0], data[50:100, 1], '.', label='-1')\n",
    "# 生成绘图用的网格\n",
    "x0_min, x0_max = X[:, 0].min() - 1, X[:, 0].max() + 1\n",
    "x1_min, x1_max = X[:, 1].min() - 1, X[:, 1].max() + 1\n",
    "xx0, xx1 = np.meshgrid(np.arange(x0_min, x0_max, 0.02),np.arange(x1_min, x1_max, 0.02))\n",
    "z = clf.predict(np.c_[xx0.ravel(), xx1.ravel()])\n",
    "z = z.reshape(xx0.shape)\n",
    "plt.contourf(xx0, xx1, z, cmap = plt.cm.Paired, alpha = 0.3)\n",
    "plt.xlabel('sepal length (cm)')\n",
    "plt.ylabel('sepal width (cm)')\n",
    "plt.legend()"
   ]
  },
  {
   "cell_type": "code",
   "execution_count": 18,
   "metadata": {},
   "outputs": [
    {
     "data": {
      "text/plain": [
       "1.0"
      ]
     },
     "execution_count": 18,
     "metadata": {},
     "output_type": "execute_result"
    }
   ],
   "source": [
    "clf.score(XTEST, YTEST)"
   ]
  },
  {
   "cell_type": "code",
   "execution_count": 19,
   "metadata": {},
   "outputs": [
    {
     "name": "stderr",
     "output_type": "stream",
     "text": [
      "D:\\Program Files (x86)\\Anaconda3\\lib\\site-packages\\sklearn\\svm\\base.py:193: FutureWarning: The default value of gamma will change from 'auto' to 'scale' in version 0.22 to account better for unscaled features. Set gamma explicitly to 'auto' or 'scale' to avoid this warning.\n",
      "  \"avoid this warning.\", FutureWarning)\n"
     ]
    },
    {
     "data": {
      "text/plain": [
       "SVC(C=1.0, cache_size=200, class_weight=None, coef0=0.0,\n",
       "    decision_function_shape='ovr', degree=3, gamma='auto_deprecated',\n",
       "    kernel='rbf', max_iter=-1, probability=False, random_state=None,\n",
       "    shrinking=True, tol=0.001, verbose=False)"
      ]
     },
     "execution_count": 19,
     "metadata": {},
     "output_type": "execute_result"
    }
   ],
   "source": [
    "clf = SVC(kernel = 'rbf')\n",
    "clf.fit(XTRAIN, YTRAIN)"
   ]
  },
  {
   "cell_type": "code",
   "execution_count": 20,
   "metadata": {},
   "outputs": [
    {
     "data": {
      "text/plain": [
       "<matplotlib.legend.Legend at 0x25027879148>"
      ]
     },
     "execution_count": 20,
     "metadata": {},
     "output_type": "execute_result"
    },
    {
     "data": {
      "image/png": "[encoded data removed]",
      "text/plain": [
       "<Figure size 432x288 with 1 Axes>"
      ]
     },
     "metadata": {
      "needs_background": "light"
     },
     "output_type": "display_data"
    }
   ],
   "source": [
    "%matplotlib inline\n",
    "plt.plot(data[:50, 0], data[:50, 1], '+', label='1')\n",
    "plt.plot(data[50:100, 0], data[50:100, 1], '.', label='-1')\n",
    "# 生成绘图用的网格\n",
    "x0_min, x0_max = X[:, 0].min() - 1, X[:, 0].max() + 1\n",
    "x1_min, x1_max = X[:, 1].min() - 1, X[:, 1].max() + 1\n",
    "xx0, xx1 = np.meshgrid(np.arange(x0_min, x0_max, 0.02),\n",
    "np.arange(x1_min, x1_max, 0.02))\n",
    "z = clf.predict(np.c_[xx0.ravel(), xx1.ravel()])\n",
    "z = z.reshape(xx0.shape)\n",
    "plt.contourf(xx0, xx1, z, cmap = plt.cm.Paired, alpha = 0.5)\n",
    "plt.xlabel('sepal length (cm)')\n",
    "plt.ylabel('sepal width (cm)')\n",
    "plt.legend()"
   ]
  }
 ],
 "metadata": {
  "hide_input": false,
  "kernelspec": {
   "display_name": "Python 3",
   "language": "python",
   "name": "python3"
  },
  "language_info": {
   "codemirror_mode": {
    "name": "ipython",
    "version": 3
   },
   "file_extension": ".py",
   "mimetype": "text/x-python",
   "name": "python",
   "nbconvert_exporter": "python",
   "pygments_lexer": "ipython3",
   "version": "3.7.4"
  },
  "toc": {
   "base_numbering": 1,
   "nav_menu": {},
   "number_sections": true,
   "sideBar": true,
   "skip_h1_title": false,
   "title_cell": "Table of Contents",
   "title_sidebar": "Contents",
   "toc_cell": true,
   "toc_position": {},
   "toc_section_display": true,
   "toc_window_display": false
  },
  "varInspector": {
   "cols": {
    "lenName": 16,
    "lenType": 16,
    "lenVar": 40
   },
   "kernels_config": {
    "python": {
     "delete_cmd_postfix": "",
     "delete_cmd_prefix": "del ",
     "library": "var_list.py",
     "varRefreshCmd": "print(var_dic_list())"
    },
    "r": {
     "delete_cmd_postfix": ") ",
     "delete_cmd_prefix": "rm(",
     "library": "var_list.r",
     "varRefreshCmd": "cat(var_dic_list()) "
    }
   },
   "position": {
    "height": "641.753px",
    "left": "489.017px",
    "right": "20px",
    "top": "36.9826px",
    "width": "800px"
   },
   "types_to_exclude": [
    "module",
    "function",
    "builtin_function_or_method",
    "instance",
    "_Feature"
   ],
   "window_display": false
  }
 },
 "nbformat": 4,
 "nbformat_minor": 2
}
