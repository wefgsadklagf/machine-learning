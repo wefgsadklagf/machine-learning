{
 "cells": [
  {
   "cell_type": "markdown",
   "metadata": {
    "toc": true
   },
   "source": [
    "<h1>Table of Contents<span class=\"tocSkip\"></span></h1>\n",
    "<div class=\"toc\"><ul class=\"toc-item\"><li><span><a href=\"#实验说明\" data-toc-modified-id=\"实验说明-1\"><span class=\"toc-item-num\">1&nbsp;&nbsp;</span>实验说明</a></span></li><li><span><a href=\"#数据说明\" data-toc-modified-id=\"数据说明-2\"><span class=\"toc-item-num\">2&nbsp;&nbsp;</span>数据说明</a></span><ul class=\"toc-item\"><li><span><a href=\"#数据集说明\" data-toc-modified-id=\"数据集说明-2.1\"><span class=\"toc-item-num\">2.1&nbsp;&nbsp;</span>数据集说明</a></span></li><li><span><a href=\"#数据处理\" data-toc-modified-id=\"数据处理-2.2\"><span class=\"toc-item-num\">2.2&nbsp;&nbsp;</span>数据处理</a></span></li></ul></li><li><span><a href=\"#参考文献\" data-toc-modified-id=\"参考文献-3\"><span class=\"toc-item-num\">3&nbsp;&nbsp;</span>参考文献</a></span></li></ul></div>"
   ]
  },
  {
   "cell_type": "markdown",
   "metadata": {},
   "source": [
    "# 实验说明\n",
    "\n",
    "本实验基于`sklearn`中的`KNN`分类器实现数字识别，数据来源于[GitHub](https://github.com/Asia-Lee/KNN/)。数字资源不需要特殊处理，可直接使用，便于初学者使用。\n",
    "\n",
    "# 数据说明\n",
    "\n",
    "  ## 数据集说明\n",
    "  需要识别的数字已经使用图形处理软件，处理成具有相同的色彩和大小：宽高是32像素x32像素的黑白图像。尽管采用本文格式存储图像不能有效地利用内存空间，但是为了方便理解，在数据存储式任然保存为文本格式，对于初学者而言，有利于实验的进行，在掌握算法原理之后就能将这个模型进行扩展，添加其他的模块，如图像处理模块、数据分析模块等。\n",
    "\n",
    "  数据集中的所有数据均能从实验说明中的[GitHub](https://github.com/Asia-Lee/KNN/)中获取，这些文本格式存储的数字的文件命名也很有特点，格式为：数字的值_该数字的样本序号。\n",
    "  \n",
    "  ## 数据处理\n",
    "  在KNN模型中每一个样本的数据不能做为矩阵输入，应将每个数字文件中32\\*32的二进制图像矩阵转换为1*1024的向量，作为一个样本输入。随后就能使用`KNeighborsClassifier` 分类器进行分类。"
   ]
  },
  {
   "cell_type": "code",
   "execution_count": 1,
   "metadata": {},
   "outputs": [],
   "source": [
    "import numpy as np\n",
    "from skimage import io\n",
    "from os import listdir\n",
    "import matplotlib.pyplot as plt\n",
    "from PIL import Image\n",
    "from sklearn.neighbors import KNeighborsClassifier as KNN\n",
    "from sklearn.svm import SVC"
   ]
  },
  {
   "cell_type": "code",
   "execution_count": 2,
   "metadata": {},
   "outputs": [],
   "source": [
    "\"\"\"\n",
    "function :将32x32的二进制图像转换为1x1024向量\n",
    "Parament:\n",
    "    filename : 文件名\n",
    "Return:\n",
    "    returnVect : 1 * 1024的向量\n",
    "\"\"\"\n",
    "def img2vector(filename):\n",
    "    #创建1x1024零向量\n",
    "    returnVect = np.zeros((1, 1024))\n",
    "    #打开文件\n",
    "    fr = open(filename)\n",
    "    #按行读取\n",
    "    for i in range(32):\n",
    "        #读一行数据\n",
    "        lineStr = fr.readline()\n",
    "        #每一行的前32个元素依次添加到returnVect中\n",
    "        for j in range(32):\n",
    "            returnVect[0, 32*i+j] = int(lineStr[j])\n",
    "    #返回转换后的1x1024向量\n",
    "    return returnVect"
   ]
  },
  {
   "cell_type": "code",
   "execution_count": 3,
   "metadata": {},
   "outputs": [],
   "source": [
    "'''\n",
    "function : 读取fileName指定的文件夹，并显示为图像\n",
    "Parament:\n",
    "    fileName : 需要显示为图像的文件名    \n",
    "'''\n",
    "def ShowTxtPicture(fileName):\n",
    "    image = np.zeros((32, 32))\n",
    "    fr = open(fileName) \n",
    "    for i in range(32):\n",
    "        lineStr = fr.readline()\n",
    "        for j in range(32):\n",
    "            image[i,j] = int(lineStr[j])\n",
    "\n",
    "    plt.figure(\"Image\")\n",
    "    # 这里必须加 cmap='gray' ,否则尽管原图像是灰度图（下图1），但是显示的是伪彩色图像（下图2）（如果不加的话）\n",
    "    plt.imshow(image,cmap='gray')\n",
    "    plt.axis('on')\n",
    "    plt.title('image')\n",
    "    plt.show()"
   ]
  },
  {
   "cell_type": "code",
   "execution_count": 11,
   "metadata": {},
   "outputs": [],
   "source": [
    "\"\"\"\n",
    "function :手写数字分类测试\n",
    "\"\"\"\n",
    "def handwritingClassTest():\n",
    "    #训练集的Labels\n",
    "    hwLabels = []\n",
    "    #返回trainingDigits目录下的文件名\n",
    "    trainingFileList = listdir('./KNN-master/trainingDigits')\n",
    "    #返回文件夹下文件的个数\n",
    "    m = len(trainingFileList)\n",
    "    #初始化训练的Mat矩阵,训练集\n",
    "    trainingMat = np.zeros((m, 1024))\n",
    "    #从文件名中解析出训练集的类别\n",
    "    for i in range(m):\n",
    "        #获得文件的名字\n",
    "        fileNameStr = trainingFileList[i]\n",
    "        #获得分类的数字\n",
    "        classNumber = int(fileNameStr.split('_')[0])\n",
    "        #将获得的类别添加到hwLabels中\n",
    "        hwLabels.append(classNumber)\n",
    "        #将每一个文件的1x1024数据存储到trainingMat矩阵中\n",
    "        trainingMat[i,:] = img2vector('./KNN-master/trainingDigits/%s' % (fileNameStr))\n",
    "    #构建 SVC 分类器\n",
    "    svc =SVC(kernel='linear', class_weight='balanced')\n",
    "    # 拟合模型, trainingMat为训练矩阵,hwLabels为对应的标签\n",
    "    svc.fit(trainingMat, hwLabels)\n",
    "    # 返回testDigits目录下的文件列表\n",
    "    testFileList = listdir('./KNN-master/testDigits')\n",
    "    # 错误检测计数\n",
    "    errorCount = 0.0\n",
    "    # 测试数据的数量\n",
    "    mTest = len(testFileList)\n",
    "    # 从文件中解析出测试集的类别并进行 分类测试\n",
    "    for i in range(mTest):\n",
    "        fileNameStr = testFileList[i] # 获得文件的名字\n",
    "        classNumber = int(fileNameStr.split('_')[0]) # 获得分类的数字\n",
    "        #获得测试集的1x1024向量,用于训练\n",
    "        vectorUnderTest = img2vector('./KNN-master/testDigits/%s' % (fileNameStr))\n",
    "        #获得预测结果\n",
    "        classifierResult = svc.predict(vectorUnderTest)\n",
    "        # print(\"分类返回结果为%d\\t真实结果为%d\" % (classifierResult, classNumber))\n",
    "        if(classifierResult != classNumber):\n",
    "            ShowTxtPicture('./KNN-master/testDigits/%s' % (fileNameStr))\n",
    "            print(\"预测为：\", classifierResult,  \"文件名为 ： \", fileNameStr )            \n",
    "            errorCount += 1.0\n",
    "    print(\"总共错了%d个数据\\n错误率为%f%%\" % (errorCount, errorCount/mTest * 100))"
   ]
  },
  {
   "cell_type": "code",
   "execution_count": 12,
   "metadata": {
    "scrolled": true
   },
   "outputs": [
    {
     "data": {
      "image/png": "[encoded data removed]",
      "text/plain": [
       "<Figure size 432x288 with 1 Axes>"
      ]
     },
     "metadata": {
      "needs_background": "light"
     },
     "output_type": "display_data"
    },
    {
     "name": "stdout",
     "output_type": "stream",
     "text": [
      "预测为： [7] 文件名为 ：  1_86.txt\n"
     ]
    },
    {
     "data": {
      "image/png": "[encoded data removed]",
      "text/plain": [
       "<Figure size 432x288 with 1 Axes>"
      ]
     },
     "metadata": {
      "needs_background": "light"
     },
     "output_type": "display_data"
    },
    {
     "name": "stdout",
     "output_type": "stream",
     "text": [
      "预测为： [8] 文件名为 ：  2_72.txt\n"
     ]
    },
    {
     "data": {
      "image/png": "[encoded data removed]",
      "text/plain": [
       "<Figure size 432x288 with 1 Axes>"
      ]
     },
     "metadata": {
      "needs_background": "light"
     },
     "output_type": "display_data"
    },
    {
     "name": "stdout",
     "output_type": "stream",
     "text": [
      "预测为： [8] 文件名为 ：  2_73.txt\n"
     ]
    },
    {
     "data": {
      "image/png": "[encoded data removed]",
      "text/plain": [
       "<Figure size 432x288 with 1 Axes>"
      ]
     },
     "metadata": {
      "needs_background": "light"
     },
     "output_type": "display_data"
    },
    {
     "name": "stdout",
     "output_type": "stream",
     "text": [
      "预测为： [9] 文件名为 ：  2_91.txt\n"
     ]
    },
    {
     "data": {
      "image/png": "[encoded data removed]",
      "text/plain": [
       "<Figure size 432x288 with 1 Axes>"
      ]
     },
     "metadata": {
      "needs_background": "light"
     },
     "output_type": "display_data"
    },
    {
     "name": "stdout",
     "output_type": "stream",
     "text": [
      "预测为： [9] 文件名为 ：  3_11.txt\n"
     ]
    },
    {
     "data": {
      "image/png": "[encoded data removed]",
      "text/plain": [
       "<Figure size 432x288 with 1 Axes>"
      ]
     },
     "metadata": {
      "needs_background": "light"
     },
     "output_type": "display_data"
    },
    {
     "name": "stdout",
     "output_type": "stream",
     "text": [
      "预测为： [9] 文件名为 ：  3_43.txt\n"
     ]
    },
    {
     "data": {
      "image/png": "[encoded data removed]",
      "text/plain": [
       "<Figure size 432x288 with 1 Axes>"
      ]
     },
     "metadata": {
      "needs_background": "light"
     },
     "output_type": "display_data"
    },
    {
     "name": "stdout",
     "output_type": "stream",
     "text": [
      "预测为： [5] 文件名为 ：  3_48.txt\n"
     ]
    },
    {
     "data": {
      "image/png": "[encoded data removed]",
      "text/plain": [
       "<Figure size 432x288 with 1 Axes>"
      ]
     },
     "metadata": {
      "needs_background": "light"
     },
     "output_type": "display_data"
    },
    {
     "name": "stdout",
     "output_type": "stream",
     "text": [
      "预测为： [9] 文件名为 ：  3_72.txt\n"
     ]
    },
    {
     "data": {
      "image/png": "[encoded data removed]",
      "text/plain": [
       "<Figure size 432x288 with 1 Axes>"
      ]
     },
     "metadata": {
      "needs_background": "light"
     },
     "output_type": "display_data"
    },
    {
     "name": "stdout",
     "output_type": "stream",
     "text": [
      "预测为： [4] 文件名为 ：  6_82.txt\n"
     ]
    },
    {
     "data": {
      "image/png": "[encoded data removed]",
      "text/plain": [
       "<Figure size 432x288 with 1 Axes>"
      ]
     },
     "metadata": {
      "needs_background": "light"
     },
     "output_type": "display_data"
    },
    {
     "name": "stdout",
     "output_type": "stream",
     "text": [
      "预测为： [4] 文件名为 ：  7_73.txt\n"
     ]
    },
    {
     "data": {
      "image/png": "[encoded data removed]",
      "text/plain": [
       "<Figure size 432x288 with 1 Axes>"
      ]
     },
     "metadata": {
      "needs_background": "light"
     },
     "output_type": "display_data"
    },
    {
     "name": "stdout",
     "output_type": "stream",
     "text": [
      "预测为： [6] 文件名为 ：  8_11.txt\n"
     ]
    },
    {
     "data": {
      "image/png": "[encoded data removed]",
      "text/plain": [
       "<Figure size 432x288 with 1 Axes>"
      ]
     },
     "metadata": {
      "needs_background": "light"
     },
     "output_type": "display_data"
    },
    {
     "name": "stdout",
     "output_type": "stream",
     "text": [
      "预测为： [1] 文件名为 ：  8_45.txt\n"
     ]
    },
    {
     "data": {
      "image/png": "[encoded data removed]",
      "text/plain": [
       "<Figure size 432x288 with 1 Axes>"
      ]
     },
     "metadata": {
      "needs_background": "light"
     },
     "output_type": "display_data"
    },
    {
     "name": "stdout",
     "output_type": "stream",
     "text": [
      "预测为： [1] 文件名为 ：  9_14.txt\n"
     ]
    },
    {
     "data": {
      "image/png": "[encoded data removed]",
      "text/plain": [
       "<Figure size 432x288 with 1 Axes>"
      ]
     },
     "metadata": {
      "needs_background": "light"
     },
     "output_type": "display_data"
    },
    {
     "name": "stdout",
     "output_type": "stream",
     "text": [
      "预测为： [3] 文件名为 ：  9_78.txt\n",
      "总共错了14个数据\n",
      "错误率为1.479915%\n"
     ]
    }
   ],
   "source": [
    "handwritingClassTestBySVC()"
   ]
  },
  {
   "cell_type": "markdown",
   "metadata": {},
   "source": [
    "# 参考文献 \n",
    "[1] https://blog.csdn.net/asialee_bird/article/details/81051281?utm_source=app \n",
    "\n",
    "[2] 《统计学习方法》第 2 版，李航 \n",
    "\n",
    "[3] https://blog.csdn.net/Snippers/article/details/97788694?depth_1-utm_source=distribute.pc_relevant.none-task-blog-BlogCommendFromBaidu-2&utm_source=distribute.pc_relevant.none-task-blog-BlogCommendFromBaidu-2\n",
    "\n",
    "[4] https://blog.csdn.net/v_july_v/article/details/7624837\n",
    "\n",
    "[5] https://blog.csdn.net/u014688145/article/details/53688585\n"
   ]
  }
 ],
 "metadata": {
  "hide_input": false,
  "kernelspec": {
   "display_name": "Python 3",
   "language": "python",
   "name": "python3"
  },
  "language_info": {
   "codemirror_mode": {
    "name": "ipython",
    "version": 3
   },
   "file_extension": ".py",
   "mimetype": "text/x-python",
   "name": "python",
   "nbconvert_exporter": "python",
   "pygments_lexer": "ipython3",
   "version": "3.7.4"
  },
  "toc": {
   "base_numbering": 1,
   "nav_menu": {},
   "number_sections": true,
   "sideBar": true,
   "skip_h1_title": false,
   "title_cell": "Table of Contents",
   "title_sidebar": "Contents",
   "toc_cell": true,
   "toc_position": {},
   "toc_section_display": true,
   "toc_window_display": false
  },
  "varInspector": {
   "cols": {
    "lenName": 16,
    "lenType": 16,
    "lenVar": 40
   },
   "kernels_config": {
    "python": {
     "delete_cmd_postfix": "",
     "delete_cmd_prefix": "del ",
     "library": "var_list.py",
     "varRefreshCmd": "print(var_dic_list())"
    },
    "r": {
     "delete_cmd_postfix": ") ",
     "delete_cmd_prefix": "rm(",
     "library": "var_list.r",
     "varRefreshCmd": "cat(var_dic_list()) "
    }
   },
   "types_to_exclude": [
    "module",
    "function",
    "builtin_function_or_method",
    "instance",
    "_Feature"
   ],
   "window_display": false
  }
 },
 "nbformat": 4,
 "nbformat_minor": 2
}
