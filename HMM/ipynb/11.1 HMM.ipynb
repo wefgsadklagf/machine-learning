{
 "cells": [
  {
   "cell_type": "markdown",
   "metadata": {
    "toc": true
   },
   "source": [
    "<h1>Table of Contents<span class=\"tocSkip\"></span></h1>\n",
    "<div class=\"toc\"><ul class=\"toc-item\"><li><span><a href=\"#手写HiddenMarkovModel\" data-toc-modified-id=\"手写HiddenMarkovModel-1\"><span class=\"toc-item-num\">1&nbsp;&nbsp;</span>手写HiddenMarkovModel</a></span></li><li><span><a href=\"#sklearn-库实现\" data-toc-modified-id=\"sklearn-库实现-2\"><span class=\"toc-item-num\">2&nbsp;&nbsp;</span>sklearn 库实现</a></span></li></ul></div>"
   ]
  },
  {
   "cell_type": "code",
   "execution_count": 1,
   "metadata": {},
   "outputs": [],
   "source": [
    "import numpy as np\n",
    "import copy"
   ]
  },
  {
   "cell_type": "markdown",
   "metadata": {},
   "source": [
    "## 手写HiddenMarkovModel"
   ]
  },
  {
   "cell_type": "code",
   "execution_count": 2,
   "metadata": {},
   "outputs": [],
   "source": [
    "class HiddenMarkovModel:\n",
    "    def __init__(self, Q, V, threshold=1e-6):\n",
    "        self.Q = Q\n",
    "        self.V = V\n",
    "        self.threshold = threshold\n",
    "    \n",
    "    def forward(self, O, A, B, pi):\n",
    "        N, T = len(self.Q), len(O)\n",
    "        self.alphas = np.zeros((T, N)) \n",
    "        self.alphas[0] = pi * B[:, self.V.index(O[0])] \n",
    "        for t in range(1, T): \n",
    "            self.alphas[t] = np.dot(self.alphas[t-1], A) * B[:, self.V.index(O[t])]\n",
    "        return np.sum(self.alphas[T-1]) \n",
    "    \n",
    "    def backward(self, O, A, B, pi):\n",
    "        N, T = len(self.Q), len(O)\n",
    "        self.betas = np.zeros((T, N)) \n",
    "        self.betas[T-1] = np.ones(N) \n",
    "        for t in range(T-2, -1, -1): \n",
    "            self.betas[t] = np.dot(self.betas[t+1] * B[:, self.V.index(O[t+1])], A.T)\n",
    "        return np.dot(pi * B[:, self.V.index(O[0])], self.betas[0])\n",
    "    \n",
    "    def viterbi(self, O, A, B, pi):\n",
    "        N, T = len(self.Q), len(O)\n",
    "        self.deltas = np.zeros((T, N))\n",
    "        self.psis = np.zeros((T, N), dtype=np.int16)\n",
    "        self.deltas[0] = pi*B[:, self.V.index(O[0])]\n",
    "        for t in range(1, T):\n",
    "            last = self.deltas[t-1].reshape(-1, 1) * A\n",
    "            self.deltas[t] = np.max(last, axis=0) * B[:, self.V.index(O[t])]\n",
    "            self.psis[t] = np.argmax(last, axis=0)\n",
    "        pstar = np.max(self.deltas[T-1])\n",
    "        path = [np.argmax(self.deltas[T-1])]\n",
    "        for t in range(T-1, 0, -1):\n",
    "            path.insert(0, self.psis[t, path[0]])\n",
    "        return pstar, [index+1 for index in path]\n",
    "        \n",
    "    def fit(self, O, A, B, pi, n_iter = 100):\n",
    "        N, M, D, T = len(self.Q), len(self.V), len(O), len(O[0])\n",
    "        self.A, self.B, self.pi = copy.deepcopy(A), copy.deepcopy(B), copy.deepcopy(pi)\n",
    "        gamma, xi, mask = np.zeros((D, T, N)), np.zeros((D, T, N, N)), np.zeros((D, T, N, M))\n",
    "        for step in range(n_iter):\n",
    "            for d, o in enumerate(O): \n",
    "                p = self.forward(o, self.A, self.B, self.pi)\n",
    "                p = self.backward(o, self.A, self.B, self.pi)\n",
    "                gamma[d] = self.alphas * self.betas / p\n",
    "                for t in range(T-1):\n",
    "                    xi[d, t] = self.alphas[t].reshape(-1, 1) * self.A * \\\n",
    "                        self.B[:, self.V.index(o[t+1])].reshape(1, -1) * self.betas[t+1] / p\n",
    "                    mask[d, t, :, self.V.index(o[t])] = np.ones(N)\n",
    "            mask[d, T-1, :, self.V.index(o[T-1])] = np.ones(N)\n",
    "            old_A, old_B, old_pi = copy.deepcopy(self.A), copy.deepcopy(self.B), copy.deepcopy(self.pi)\n",
    "            self.A = np.sum(np.sum(xi[:, :-1, :, :], axis = 1), axis = 0) / \\\n",
    "            np.sum(np.sum(gamma[:, :-1, :], axis = 1), axis = 0).reshape(-1, 1)\n",
    "            self.B = np.sum(np.sum(gamma.reshape(D, T, N, 1)*mask, axis = 1),\n",
    "            axis = 0) / np.sum(np.sum(gamma, axis = 1), axis = 0).reshape(-1, 1)\n",
    "            self.pi = np.sum(gamma[:, 0, :], axis = 0) / D\n",
    "            if max(np.abs(self.A - old_A).max(), np.abs(self.B - old_B).max(), np.abs(self.pi - old_pi).max()) < self.threshold:\n",
    "                break\n",
    "        print(self.A)\n",
    "        print(self.B)\n",
    "        print(self.pi)"
   ]
  },
  {
   "cell_type": "code",
   "execution_count": 3,
   "metadata": {},
   "outputs": [],
   "source": [
    "Q = ['1', '2', '3'] # 状态集合\n",
    "V = ['红', '白'] # 观测集合\n",
    "# 模型参数\n",
    "A = [[0.5, 0.2, 0.3],\n",
    "[0.3, 0.5, 0.2],\n",
    "[0.2, 0.3, 0.5]]\n",
    "B = [[0.5, 0.5],\n",
    "[0.4, 0.6],\n",
    "[0.7, 0.3]]\n",
    "pi = [0.2, 0.4, 0.4]"
   ]
  },
  {
   "cell_type": "code",
   "execution_count": 4,
   "metadata": {},
   "outputs": [
    {
     "name": "stdout",
     "output_type": "stream",
     "text": [
      "0.130218\n",
      "0.130218\n",
      "(0.014699999999999998, [3, 3, 3])\n"
     ]
    }
   ],
   "source": [
    "myhmm = HiddenMarkovModel(Q, V)\n",
    "O = ['红', '白', '红']\n",
    "print(myhmm.forward(O, np.array(A), np.array(B), np.array(pi)))\n",
    "print(myhmm.backward(O, np.array(A), np.array(B), np.array(pi)))\n",
    "print(myhmm.viterbi(O, np.array(A), np.array(B), np.array(pi)))"
   ]
  },
  {
   "cell_type": "markdown",
   "metadata": {},
   "source": [
    "## sklearn 库实现"
   ]
  },
  {
   "cell_type": "code",
   "execution_count": 5,
   "metadata": {},
   "outputs": [],
   "source": [
    "from hmmlearn import hmm"
   ]
  },
  {
   "cell_type": "code",
   "execution_count": 6,
   "metadata": {},
   "outputs": [
    {
     "name": "stdout",
     "output_type": "stream",
     "text": [
      "0.13021800000000003\n",
      "0.014699999999999996 [3, 3, 3]\n"
     ]
    }
   ],
   "source": [
    "model = hmm.MultinomialHMM(n_components = len(Q))\n",
    "model.startprob_ = np.array(pi)\n",
    "model.transmat_ = np.array(A)\n",
    "model.emissionprob_ = np.array(B)\n",
    "O = np.array([0, 1, 0]).reshape(-1, 1) #0：红， 1：白\n",
    "logprob = model.score(O) # 观测序列的 log 概率\n",
    "print(np.exp(logprob))\n",
    "# 观测序列对应的最佳隐状态\n",
    "logprob, states = model.decode(O, algorithm = 'viterbi')\n",
    "print(np.exp(logprob), [state+1 for state in states])"
   ]
  },
  {
   "cell_type": "code",
   "execution_count": 7,
   "metadata": {},
   "outputs": [
    {
     "name": "stdout",
     "output_type": "stream",
     "text": [
      "0.06009079999999999\n",
      "0.06009079999999999\n",
      "(0.0030239999999999993, [3, 2, 2, 2])\n",
      "****************************************\n",
      "0.06009079999999997\n",
      "0.003024 [3, 2, 2, 2]\n"
     ]
    }
   ],
   "source": [
    "O = ['红', '白', '红', '白']\n",
    "print(myhmm.forward(O, np.array(A), np.array(B), np.array(pi)))\n",
    "print(myhmm.backward(O, np.array(A), np.array(B), np.array(pi)))\n",
    "print(myhmm.viterbi(O, np.array(A), np.array(B), np.array(pi)))\n",
    "print(\"*\"*40)\n",
    "# 库 HMM\n",
    "O = np.array([0, 1, 0, 1]).reshape(-1, 1) #0：红， 1：白\n",
    "print(np.exp(model.score(O)))\n",
    "logprob, states = model.decode(O, algorithm = 'viterbi')\n",
    "print(np.exp(logprob), [state+1 for state in states])"
   ]
  },
  {
   "cell_type": "code",
   "execution_count": 8,
   "metadata": {},
   "outputs": [],
   "source": [
    "Q = ['1', '2', '3'] # 状态集合\n",
    "V = ['红', '白'] # 观测集合\n",
    "# 模型参数\n",
    "A = [[0.5, 0.1, 0.4],\n",
    "[0.3, 0.5, 0.2],\n",
    "[0.2, 0.2, 0.6]]\n",
    "B = [[0.5, 0.5],\n",
    "[0.4, 0.6],\n",
    "[0.7, 0.3]]\n",
    "pi = [0.2, 0.3, 0.5]"
   ]
  },
  {
   "cell_type": "code",
   "execution_count": 9,
   "metadata": {},
   "outputs": [
    {
     "name": "stdout",
     "output_type": "stream",
     "text": [
      "0.0034767094492823987\n",
      "0.0034767094492824\n",
      "(3.024568511999999e-05, [3, 3, 3, 3, 3, 3, 2, 2])\n",
      "0.003476709449282401\n",
      "3.024568512e-05 [3, 3, 3, 3, 3, 3, 2, 2]\n"
     ]
    }
   ],
   "source": [
    "myhmm = HiddenMarkovModel(Q, V)\n",
    "O = ['红', '白', '红', '红', '白', '红', '白', '白']\n",
    "print(myhmm.forward(O, np.array(A), np.array(B), np.array(pi)))\n",
    "print(myhmm.backward(O, np.array(A), np.array(B), np.array(pi)))\n",
    "print(myhmm.viterbi(O, np.array(A), np.array(B), np.array(pi)))\n",
    "# 库 HMM\n",
    "model = hmm.MultinomialHMM(n_components = len(Q))\n",
    "O = np.array([0, 1, 0, 0, 1, 0, 1, 1]).reshape(-1, 1) #0：红， 1：白\n",
    "model.startprob_ = np.array(pi)\n",
    "model.transmat_ = np.array(A)\n",
    "model.emissionprob_ = np.array(B)\n",
    "print(np.exp(model.score(O)))\n",
    "logprob, states = model.decode(O, algorithm = 'viterbi')\n",
    "print(np.exp(logprob), [state+1 for state in states])"
   ]
  },
  {
   "cell_type": "code",
   "execution_count": 10,
   "metadata": {},
   "outputs": [],
   "source": [
    "import pandas as pd\n",
    "data = pd.read_csv('data_python.csv')\n",
    "O = data['Visible'].values"
   ]
  },
  {
   "cell_type": "code",
   "execution_count": 11,
   "metadata": {},
   "outputs": [
    {
     "name": "stdout",
     "output_type": "stream",
     "text": [
      "[[0.77384134 0.22615866]\n",
      " [0.2278316  0.7721684 ]]\n",
      "[[0.07801696 0.17193173 0.7500513 ]\n",
      " [0.33355442 0.36773984 0.29870574]]\n",
      "[9.39942699e-51 1.00000000e+00]\n",
      "****************************************\n",
      "[[0.77384134 0.22615866]\n",
      " [0.2278316  0.7721684 ]]\n",
      "[[0.07801696 0.17193173 0.7500513 ]\n",
      " [0.33355442 0.36773984 0.29870574]]\n",
      "[9.39942699e-51 1.00000000e+00]\n"
     ]
    }
   ],
   "source": [
    "Q = ['A', 'B'] # 状态集合\n",
    "V = [0, 1, 2] # 观测集合\n",
    "N, M = len(Q), len(V)\n",
    "# 初始化 A、 B、 pi：使用固定参数\n",
    "A = np.ones((N, N))\n",
    "A = A / np.sum(A, axis = 1).reshape(-1, 1)\n",
    "B = np.array(((1, 2, 3), (4, 5, 6)))\n",
    "B = B / np.sum(B, axis = 1).reshape(-1, 1)\n",
    "pi = np.array((0.5, 0.5))\n",
    "# 自定义 HMM\n",
    "myhmm = HiddenMarkovModel(Q, V)\n",
    "myhmm.fit([O], A, B, pi)\n",
    "print('*'*40)\n",
    "# 库 HMM\n",
    "model = hmm.MultinomialHMM(n_components = N, n_iter = 100, tol = 1e-6)\n",
    "model.startprob = pi\n",
    "model.transmat = A\n",
    "model.emissionprob_ = B\n",
    "model.init_params = 'st'\n",
    "model.fit(O.reshape(-1, 1))\n",
    "print(model.transmat_)\n",
    "print(model.emissionprob_)\n",
    "print(model.startprob_)"
   ]
  },
  {
   "cell_type": "code",
   "execution_count": 12,
   "metadata": {},
   "outputs": [
    {
     "name": "stdout",
     "output_type": "stream",
     "text": [
      "[[0.86785984 0.13214016]\n",
      " [0.09332514 0.90667486]]\n",
      "[[0.08752113 0.16290358 0.74957529]\n",
      " [0.28820287 0.34430551 0.36749162]]\n",
      "[3.67450001e-44 1.00000000e+00]\n",
      "****************************************\n",
      "[[0.85294957 0.14705043]\n",
      " [0.11130601 0.88869399]]\n",
      "[[0.08778356 0.16258662 0.74962982]\n",
      " [0.29402465 0.34998063 0.35599472]]\n",
      "[2.1906687e-49 1.0000000e+00]\n"
     ]
    }
   ],
   "source": [
    "# 初始化 A、 B、 pi：全部使用随机参数\n",
    "A = np.random.rand(N, N)\n",
    "A = A / np.sum(A, axis = 1).reshape(-1, 1)\n",
    "B = np.random.rand(N, M)\n",
    "B = B / np.sum(B, axis = 1).reshape(-1, 1)\n",
    "pi = np.random.rand(N)\n",
    "pi = pi / np.sum(pi)\n",
    "# 自定义 HMM\n",
    "myhmm = HiddenMarkovModel(Q, V)\n",
    "myhmm.fit([O], A, B, pi)\n",
    "print('*'*40)\n",
    "# 库 HMM\n",
    "model = hmm.MultinomialHMM(n_components = N, n_iter = 100, tol = 1e-6)\n",
    "model.startprob = pi\n",
    "model.transmat = A\n",
    "model.emissionprob_ = B\n",
    "model.init_params = 'st'\n",
    "model.fit(O.reshape(-1, 1))\n",
    "print(model.transmat_)\n",
    "print(model.emissionprob_)\n",
    "print(model.startprob_)"
   ]
  },
  {
   "cell_type": "code",
   "execution_count": null,
   "metadata": {},
   "outputs": [],
   "source": []
  }
 ],
 "metadata": {
  "hide_input": false,
  "kernelspec": {
   "display_name": "Python 3",
   "language": "python",
   "name": "python3"
  },
  "language_info": {
   "codemirror_mode": {
    "name": "ipython",
    "version": 3
   },
   "file_extension": ".py",
   "mimetype": "text/x-python",
   "name": "python",
   "nbconvert_exporter": "python",
   "pygments_lexer": "ipython3",
   "version": "3.7.4"
  },
  "toc": {
   "base_numbering": 1,
   "nav_menu": {},
   "number_sections": true,
   "sideBar": true,
   "skip_h1_title": false,
   "title_cell": "Table of Contents",
   "title_sidebar": "Contents",
   "toc_cell": true,
   "toc_position": {},
   "toc_section_display": true,
   "toc_window_display": false
  },
  "varInspector": {
   "cols": {
    "lenName": 16,
    "lenType": 16,
    "lenVar": 40
   },
   "kernels_config": {
    "python": {
     "delete_cmd_postfix": "",
     "delete_cmd_prefix": "del ",
     "library": "var_list.py",
     "varRefreshCmd": "print(var_dic_list())"
    },
    "r": {
     "delete_cmd_postfix": ") ",
     "delete_cmd_prefix": "rm(",
     "library": "var_list.r",
     "varRefreshCmd": "cat(var_dic_list()) "
    }
   },
   "types_to_exclude": [
    "module",
    "function",
    "builtin_function_or_method",
    "instance",
    "_Feature"
   ],
   "window_display": false
  }
 },
 "nbformat": 4,
 "nbformat_minor": 2
}
