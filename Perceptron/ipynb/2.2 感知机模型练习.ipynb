{
 "cells": [
  {
   "cell_type": "markdown",
   "metadata": {},
   "source": [
    "感知机模型验证，\n",
    "自己生成数据点生成数据标签，然后再使用感知机对偶迭代公式迭代"
   ]
  },
  {
   "cell_type": "code",
   "execution_count": 1,
   "metadata": {},
   "outputs": [],
   "source": [
    "import numpy as np\n",
    "import matplotlib.pyplot as plt\n",
    "import pandas as pd"
   ]
  },
  {
   "cell_type": "code",
   "execution_count": 2,
   "metadata": {},
   "outputs": [
    {
     "data": {
      "text/plain": [
       "<matplotlib.legend.Legend at 0x26a47cb8588>"
      ]
     },
     "execution_count": 2,
     "metadata": {},
     "output_type": "execute_result"
    },
    {
     "data": {
      "image/png": "[encoded data removed]",
      "text/plain": [
       "<Figure size 432x288 with 1 Axes>"
      ]
     },
     "metadata": {
      "needs_background": "light"
     },
     "output_type": "display_data"
    }
   ],
   "source": [
    "# 使用两条直线生成两类数据\n",
    "X1 = np.linspace(0, 15, 20)\n",
    "X2 = np.linspace(5, 20, 20)\n",
    "\n",
    "Y1 = - 2 * X1 + 8 + np.random.normal(scale= 3, size=X1.shape)\n",
    "Y2 = - 2 * X2 - 8 + np.random.normal(scale= 3, size=X2.shape)\n",
    "\n",
    "plt.plot(X1, Y1, 'x', label='class =  1')\n",
    "plt.plot(X2, Y2, 'o', label='class = -1')\n",
    "# 给图像添加图例\n",
    "plt.legend()"
   ]
  },
  {
   "cell_type": "code",
   "execution_count": 3,
   "metadata": {},
   "outputs": [],
   "source": [
    "# 将上图的两类点拼接为一个集合，然后将点的坐标与标记划分为两部分 ： x_train, y_train\n",
    "class1 = pd.DataFrame([X1, Y1, np.ones(X1.shape)]).T\n",
    "class2 = pd.DataFrame([X2, Y2, np.ones(X1.shape)*-1]).T\n",
    "data = np.array(pd.concat([class1, class2]))\n",
    "x_train, y_train  = data[:, :-1], data[:, -1]"
   ]
  },
  {
   "cell_type": "code",
   "execution_count": 9,
   "metadata": {},
   "outputs": [],
   "source": [
    "class Perceptron:\n",
    "    # 构造函数\n",
    "    def __init__(self):\n",
    "        self.alpha = 0.05\n",
    "        self.paras = []\n",
    "    \n",
    "    # 超平面函数\n",
    "    def f_x(self, x):\n",
    "        return np.dot(self.W , x) + self.b\n",
    "    \n",
    "    def fit(self, X, Y):\n",
    "        # 初始化参数 W 、b\n",
    "        self.W = np.ones(X.shape[1], dtype=np.float32)\n",
    "        self.b = 0\n",
    "        print('w = ', self.W,'\\nb = ', self.b)\n",
    "        \n",
    "        \n",
    "        finish = False\n",
    "        count = 0\n",
    "        while not finish:\n",
    "            count = count + 1\n",
    "            finish = True\n",
    "            for index in range(len(X)):\n",
    "                x = X[index]\n",
    "                y = Y[index]\n",
    "                if y * self.f_x(x) <= 0:\n",
    "                    self.W = self.W + self.alpha * y * x\n",
    "                    self.b = self.b + self.alpha * y\n",
    "                    finish = False\n",
    "                    \n",
    "                    self.paras.append((self.W, self.b))\n",
    "            \n",
    "            if finish:\n",
    "                print('\\n count = ', count)\n",
    "                return 'Perceptron training completed!'\n",
    "        "
   ]
  },
  {
   "cell_type": "code",
   "execution_count": 10,
   "metadata": {},
   "outputs": [
    {
     "name": "stdout",
     "output_type": "stream",
     "text": [
      "w =  [1. 1.] \n",
      "b =  0\n",
      "\n",
      " count =  2\n"
     ]
    },
    {
     "data": {
      "text/plain": [
       "'Perceptron training completed!'"
      ]
     },
     "execution_count": 10,
     "metadata": {},
     "output_type": "execute_result"
    }
   ],
   "source": [
    "# 实例化模型，添加训练点进行训练\n",
    "model = Perceptron()\n",
    "model.fit(x_train, y_train)"
   ]
  },
  {
   "cell_type": "code",
   "execution_count": 6,
   "metadata": {},
   "outputs": [
    {
     "data": {
      "text/plain": [
       "<matplotlib.legend.Legend at 0x26a47db3ac8>"
      ]
     },
     "execution_count": 6,
     "metadata": {},
     "output_type": "execute_result"
    },
    {
     "data": {
      "image/png": "[encoded data removed]",
      "text/plain": [
       "<Figure size 432x288 with 1 Axes>"
      ]
     },
     "metadata": {
      "needs_background": "light"
     },
     "output_type": "display_data"
    }
   ],
   "source": [
    "# 绘制原始的两类数据\n",
    "plt.plot(X1, Y1, 'x', label='class =  1')\n",
    "plt.plot(X2, Y2, 'o', label='class = -1')\n",
    "\n",
    "# 绘制超平面\n",
    "x_points = np.linspace(0, 20, 10)\n",
    "y_points = -(model.W[0] * x_points + model.b) / model.W[1]\n",
    "plt.plot(x_points, y_points)\n",
    "# 给图像添加图例\n",
    "plt.legend()"
   ]
  },
  {
   "cell_type": "code",
   "execution_count": null,
   "metadata": {},
   "outputs": [],
   "source": []
  },
  {
   "cell_type": "code",
   "execution_count": null,
   "metadata": {},
   "outputs": [],
   "source": []
  }
 ],
 "metadata": {
  "kernelspec": {
   "display_name": "Python 3",
   "language": "python",
   "name": "python3"
  },
  "language_info": {
   "codemirror_mode": {
    "name": "ipython",
    "version": 3
   },
   "file_extension": ".py",
   "mimetype": "text/x-python",
   "name": "python",
   "nbconvert_exporter": "python",
   "pygments_lexer": "ipython3",
   "version": "3.7.4"
  }
 },
 "nbformat": 4,
 "nbformat_minor": 2
}
